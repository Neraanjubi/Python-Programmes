{
 "cells": [
  {
   "cell_type": "code",
   "execution_count": null,
   "id": "378030d6",
   "metadata": {},
   "outputs": [],
   "source": [
    "//wrte a python program to remove the duplicates items from the list "
   ]
  },
  {
   "cell_type": "code",
   "execution_count": 2,
   "id": "3802c61e",
   "metadata": {},
   "outputs": [
    {
     "name": "stdout",
     "output_type": "stream",
     "text": [
      "5\n",
      "10 20 30 20 10\n",
      "list [10, 20, 30, 20, 10]\n",
      "Non-duplicate items:\n",
      "[10, 20, 30]\n"
     ]
    }
   ],
   "source": [
    "size_of_list=int(input())\n",
    "list_1=list(map(int,input().split()))\n",
    "print(\"list\",list_1)\n",
    "b=[]\n",
    "unique = []\n",
    "for x in list_1:\n",
    "    if x not in b:\n",
    "        unique.append(x)\n",
    "        b.append(x)\n",
    "print(\"Non-duplicate items:\")\n",
    "print(unique)"
   ]
  },
  {
   "cell_type": "code",
   "execution_count": null,
   "id": "e0e2cc50",
   "metadata": {},
   "outputs": [],
   "source": [
    "//write a python program to swap the first and last value of the list"
   ]
  },
  {
   "cell_type": "code",
   "execution_count": 1,
   "id": "6dac2cfd",
   "metadata": {},
   "outputs": [
    {
     "name": "stdout",
     "output_type": "stream",
     "text": [
      "5\n",
      "12 6 26 10 67\n",
      "[67, 6, 26, 10, 12]\n"
     ]
    }
   ],
   "source": [
    "size_of_list_1=int(input())\n",
    "list_1=list(map(int,input().split()))\n",
    "list_1[0]=list_1[0]+list_1[-1]\n",
    "list_1[-1]=list_1[0]-list_1[-1]\n",
    "list_1[0]=list_1[0]-list_1[-1]\n",
    "print(list_1)"
   ]
  },
  {
   "cell_type": "code",
   "execution_count": null,
   "id": "3cdb96cc",
   "metadata": {},
   "outputs": [],
   "source": [
    "//looping"
   ]
  },
  {
   "cell_type": "code",
   "execution_count": 1,
   "id": "ada779b1",
   "metadata": {},
   "outputs": [
    {
     "name": "stdout",
     "output_type": "stream",
     "text": [
      "('hello',)\n",
      "(('hello',),)\n",
      "((('hello',),),)\n"
     ]
    }
   ],
   "source": [
    "Tuple=('hello')\n",
    "n=3\n",
    "for i in range(int(n)):\n",
    "  Tuple=(Tuple,)\n",
    "  print(Tuple)"
   ]
  },
  {
   "cell_type": "code",
   "execution_count": 2,
   "id": "2a3f24c3",
   "metadata": {},
   "outputs": [
    {
     "name": "stdout",
     "output_type": "stream",
     "text": [
      "5\n"
     ]
    }
   ],
   "source": [
    "tuple = ('developer',5,8.9,'r',8)\n",
    "print(len(tuple))"
   ]
  },
  {
   "cell_type": "code",
   "execution_count": 3,
   "id": "4d88c0e4",
   "metadata": {},
   "outputs": [
    {
     "name": "stdout",
     "output_type": "stream",
     "text": [
      "89\n"
     ]
    }
   ],
   "source": [
    "tuple = (9,5,89,4,8)\n",
    "print(max(tuple))"
   ]
  },
  {
   "cell_type": "code",
   "execution_count": 4,
   "id": "08c2cf9e",
   "metadata": {},
   "outputs": [
    {
     "name": "stdout",
     "output_type": "stream",
     "text": [
      "4\n"
     ]
    }
   ],
   "source": [
    "tuple = (9,5,89,4,8)\n",
    "print(min(tuple))"
   ]
  },
  {
   "cell_type": "code",
   "execution_count": 5,
   "id": "ce26d9d2",
   "metadata": {},
   "outputs": [
    {
     "name": "stdout",
     "output_type": "stream",
     "text": [
      "[4, 5, 8, 9, 89]\n"
     ]
    }
   ],
   "source": [
    "tuple = (9,5,89,4,8)\n",
    "print(sorted(tuple))"
   ]
  },
  {
   "cell_type": "code",
   "execution_count": 6,
   "id": "a98400c1",
   "metadata": {},
   "outputs": [
    {
     "name": "stdout",
     "output_type": "stream",
     "text": [
      "True\n"
     ]
    }
   ],
   "source": [
    "tuple = (0,1)\n",
    "print(any(tuple))"
   ]
  },
  {
   "cell_type": "code",
   "execution_count": 7,
   "id": "8f808cd2",
   "metadata": {},
   "outputs": [
    {
     "name": "stdout",
     "output_type": "stream",
     "text": [
      "0\n"
     ]
    }
   ],
   "source": [
    "tuple = (0,)\n",
    "print(max(tuple))"
   ]
  },
  {
   "cell_type": "code",
   "execution_count": 8,
   "id": "a63baaeb",
   "metadata": {},
   "outputs": [
    {
     "name": "stdout",
     "output_type": "stream",
     "text": [
      "True\n"
     ]
    }
   ],
   "source": [
    "tuple = (4,1)\n",
    "print(all(tuple))"
   ]
  },
  {
   "cell_type": "code",
   "execution_count": 9,
   "id": "2aab8ea6",
   "metadata": {},
   "outputs": [
    {
     "name": "stdout",
     "output_type": "stream",
     "text": [
      "False\n"
     ]
    }
   ],
   "source": [
    "tuple = (0,5,7)\n",
    "print(all(tuple))"
   ]
  },
  {
   "cell_type": "code",
   "execution_count": 10,
   "id": "9e834ece",
   "metadata": {},
   "outputs": [
    {
     "name": "stdout",
     "output_type": "stream",
     "text": [
      "True\n"
     ]
    }
   ],
   "source": [
    "tuple = ()\n",
    "print(all(tuple))"
   ]
  },
  {
   "cell_type": "code",
   "execution_count": 11,
   "id": "4bc01006",
   "metadata": {},
   "outputs": [
    {
     "name": "stdout",
     "output_type": "stream",
     "text": [
      "apple\n",
      "byte\n"
     ]
    }
   ],
   "source": [
    "tuple=(\"apple\",\"byte\",\"computer\")\n",
    "n=2\n",
    "for i in range(n):\n",
    "  print(tuple[i])"
   ]
  },
  {
   "cell_type": "code",
   "execution_count": 12,
   "id": "13d7324d",
   "metadata": {},
   "outputs": [
    {
     "name": "stdout",
     "output_type": "stream",
     "text": [
      "2\n"
     ]
    }
   ],
   "source": [
    "tuple = (3,7,'p',9,9)\n",
    "print(tuple.count(9))"
   ]
  },
  {
   "cell_type": "code",
   "execution_count": 13,
   "id": "bce17a8d",
   "metadata": {},
   "outputs": [
    {
     "name": "stdout",
     "output_type": "stream",
     "text": [
      "3\n"
     ]
    }
   ],
   "source": [
    "tuple = (3,7,'p',9,9)\n",
    "print(tuple.index(9))"
   ]
  },
  {
   "cell_type": "code",
   "execution_count": null,
   "id": "4b297590",
   "metadata": {},
   "outputs": [],
   "source": [
    "//creating tuple"
   ]
  },
  {
   "cell_type": "code",
   "execution_count": 18,
   "id": "773b7597",
   "metadata": {},
   "outputs": [
    {
     "data": {
      "text/plain": [
       "(3, 7, 'p', 9, 9)"
      ]
     },
     "execution_count": 18,
     "metadata": {},
     "output_type": "execute_result"
    }
   ],
   "source": [
    "value_tuple = (26,45,'hello')\n",
    "value=(\"a\",)\n",
    "type(value)\n",
    "tuple"
   ]
  },
  {
   "cell_type": "code",
   "execution_count": 19,
   "id": "eec83b7b",
   "metadata": {},
   "outputs": [
    {
     "data": {
      "text/plain": [
       "(3, 7, 'p', 9, 9)"
      ]
     },
     "execution_count": 19,
     "metadata": {},
     "output_type": "execute_result"
    }
   ],
   "source": [
    "value_tuple = (26,45,'hello')\n",
    "value=(\"a\")\n",
    "type(value)\n",
    "tuple"
   ]
  },
  {
   "cell_type": "code",
   "execution_count": 20,
   "id": "041d1e47",
   "metadata": {},
   "outputs": [
    {
     "data": {
      "text/plain": [
       "(26, 45, 'hello', 7.5)"
      ]
     },
     "execution_count": 20,
     "metadata": {},
     "output_type": "execute_result"
    }
   ],
   "source": [
    "value_tuple = (26,45,'hello',7.5)\n",
    "value_tuple\n"
   ]
  },
  {
   "cell_type": "code",
   "execution_count": 21,
   "id": "17434291",
   "metadata": {},
   "outputs": [
    {
     "ename": "TypeError",
     "evalue": "'tuple' object does not support item assignment",
     "output_type": "error",
     "traceback": [
      "\u001b[1;31m---------------------------------------------------------------------------\u001b[0m",
      "\u001b[1;31mTypeError\u001b[0m                                 Traceback (most recent call last)",
      "Cell \u001b[1;32mIn[21], line 1\u001b[0m\n\u001b[1;32m----> 1\u001b[0m value_tuple[\u001b[38;5;241m2\u001b[39m]\u001b[38;5;241m=\u001b[39m\u001b[38;5;124m'\u001b[39m\u001b[38;5;124mpython\u001b[39m\u001b[38;5;124m'\u001b[39m\n",
      "\u001b[1;31mTypeError\u001b[0m: 'tuple' object does not support item assignment"
     ]
    }
   ],
   "source": [
    "value_tuple[2]='python'"
   ]
  },
  {
   "cell_type": "raw",
   "id": "ff48f011",
   "metadata": {},
   "source": []
  },
  {
   "cell_type": "code",
   "execution_count": 22,
   "id": "5a31078b",
   "metadata": {},
   "outputs": [
    {
     "data": {
      "text/plain": [
       "(26, 46, 'hello', 7, 5.6, 'python')"
      ]
     },
     "execution_count": 22,
     "metadata": {},
     "output_type": "execute_result"
    }
   ],
   "source": [
    "value1_tuple=(26,46,'hello')\n",
    "value2_tuple=7,5.6,\"python\"\n",
    "value_3=value1_tuple+value2_tuple\n",
    "value_3\n"
   ]
  },
  {
   "cell_type": "code",
   "execution_count": 23,
   "id": "192b1fc7",
   "metadata": {},
   "outputs": [
    {
     "data": {
      "text/plain": [
       "(26, 45, 'hello', 7.5)"
      ]
     },
     "execution_count": 23,
     "metadata": {},
     "output_type": "execute_result"
    }
   ],
   "source": [
    "value1_tuple=value1_tuple+(7,)\n",
    "value_tuple"
   ]
  },
  {
   "cell_type": "code",
   "execution_count": 24,
   "id": "c110151d",
   "metadata": {},
   "outputs": [
    {
     "data": {
      "text/plain": [
       "[26, 46, 'hello', 7]"
      ]
     },
     "execution_count": 24,
     "metadata": {},
     "output_type": "execute_result"
    }
   ],
   "source": [
    "converted_list=list(value1_tuple)\n",
    "converted_list"
   ]
  },
  {
   "cell_type": "code",
   "execution_count": 25,
   "id": "3179ba0c",
   "metadata": {},
   "outputs": [
    {
     "data": {
      "text/plain": [
       "[26, 46, 'hello', 7, 7]"
      ]
     },
     "execution_count": 25,
     "metadata": {},
     "output_type": "execute_result"
    }
   ],
   "source": [
    "converted_list.append(7)\n",
    "converted_list"
   ]
  },
  {
   "cell_type": "code",
   "execution_count": 28,
   "id": "e352bc57",
   "metadata": {},
   "outputs": [
    {
     "ename": "TypeError",
     "evalue": "'tuple' object is not callable",
     "output_type": "error",
     "traceback": [
      "\u001b[1;31m---------------------------------------------------------------------------\u001b[0m",
      "\u001b[1;31mTypeError\u001b[0m                                 Traceback (most recent call last)",
      "Cell \u001b[1;32mIn[28], line 1\u001b[0m\n\u001b[1;32m----> 1\u001b[0m value1_tuple\u001b[38;5;241m=\u001b[39m\u001b[38;5;28mtuple\u001b[39m(converted_list)\n\u001b[0;32m      2\u001b[0m value1_tuple\n",
      "\u001b[1;31mTypeError\u001b[0m: 'tuple' object is not callable"
     ]
    }
   ],
   "source": [
    "value1_tuple=tuple(converted_list)\n",
    "value1_tuple"
   ]
  },
  {
   "cell_type": "code",
   "execution_count": null,
   "id": "7ff28a80",
   "metadata": {},
   "outputs": [],
   "source": [
    "//repetition in tuples"
   ]
  },
  {
   "cell_type": "code",
   "execution_count": 30,
   "id": "4b611150",
   "metadata": {},
   "outputs": [
    {
     "data": {
      "text/plain": [
       "(26, 45, 'hello', 'python')"
      ]
     },
     "execution_count": 30,
     "metadata": {},
     "output_type": "execute_result"
    }
   ],
   "source": [
    "value_tuple = (26,45,'hello','python')\n",
    "value_tuple"
   ]
  },
  {
   "cell_type": "code",
   "execution_count": null,
   "id": "bef6f719",
   "metadata": {},
   "outputs": [],
   "source": [
    "//write a python program to get tupe values from the user and print it"
   ]
  },
  {
   "cell_type": "code",
   "execution_count": 1,
   "id": "e96a83c9",
   "metadata": {},
   "outputs": [
    {
     "name": "stdout",
     "output_type": "stream",
     "text": [
      "4\n",
      "12\n",
      "10\n",
      "26\n",
      "6\n"
     ]
    }
   ],
   "source": [
    "value=()\n",
    "n=int(input())\n",
    "list_1=[]\n",
    "for i in range(n):\n",
    "    list_1.append(int(input()))\n",
    "    value=tuple(list_1)"
   ]
  },
  {
   "cell_type": "code",
   "execution_count": 1,
   "id": "a1afdc52",
   "metadata": {},
   "outputs": [
    {
     "data": {
      "text/plain": [
       "(10, 20, 30, 7)"
      ]
     },
     "execution_count": 1,
     "metadata": {},
     "output_type": "execute_result"
    }
   ],
   "source": [
    "a=(10,20,30)\n",
    "b=list(a)\n",
    "b.append(7)\n",
    "x=tuple(b)\n",
    "x"
   ]
  },
  {
   "cell_type": "code",
   "execution_count": 4,
   "id": "64877138",
   "metadata": {},
   "outputs": [
    {
     "name": "stdout",
     "output_type": "stream",
     "text": [
      "Enter integer 1,2,3,4\n",
      "Your tuple of integers: (1, 2, 3, 4)\n"
     ]
    }
   ],
   "source": [
    "user = input(\"Enter integer \")\n",
    "\n",
    "\n",
    "usertuple = tuple(map(int, user.split(',')))\n",
    "\n",
    "\n",
    "print(\"Your tuple of integers:\", usertuple)"
   ]
  },
  {
   "cell_type": "code",
   "execution_count": null,
   "id": "54606e9b",
   "metadata": {},
   "outputs": [],
   "source": [
    "//accessing values in tuple"
   ]
  },
  {
   "cell_type": "code",
   "execution_count": 5,
   "id": "d79960cd",
   "metadata": {},
   "outputs": [
    {
     "name": "stdout",
     "output_type": "stream",
     "text": [
      "One\n",
      "Two\n",
      "Three\n",
      "Four\n"
     ]
    }
   ],
   "source": [
    "number=(\"One\",\"Two\",\"Three\",\"Four\")\n",
    "i=0\n",
    "while i<len(number):\n",
    "  print(number[i])\n",
    "  i+=1"
   ]
  },
  {
   "cell_type": "code",
   "execution_count": 6,
   "id": "8fb915b4",
   "metadata": {},
   "outputs": [
    {
     "name": "stdout",
     "output_type": "stream",
     "text": [
      "One\n",
      "Two\n",
      "Three\n",
      "Four\n"
     ]
    }
   ],
   "source": [
    "number=(\"One\",\"Two\",\"Three\",\"Four\")\n",
    "for i in number:\n",
    "    print(i)"
   ]
  },
  {
   "cell_type": "code",
   "execution_count": null,
   "id": "f5b5332c",
   "metadata": {},
   "outputs": [],
   "source": [
    "//value_tuple = (26,12,10,6,67,91,45,'hello',7.5,99,7,\"Name\")"
   ]
  },
  {
   "cell_type": "code",
   "execution_count": 10,
   "id": "890674d5",
   "metadata": {},
   "outputs": [
    {
     "name": "stdout",
     "output_type": "stream",
     "text": [
      "45\n"
     ]
    },
    {
     "data": {
      "text/plain": [
       "45"
      ]
     },
     "execution_count": 10,
     "metadata": {},
     "output_type": "execute_result"
    }
   ],
   "source": [
    "value_tuple=(26,12,10,6,67,91,45,'hello',7.5,99,7,\"Name\")\n",
    "print(value_tuple[6])\n",
    "value_tuple[-6]\n"
   ]
  },
  {
   "cell_type": "code",
   "execution_count": null,
   "id": "7696bd0a",
   "metadata": {},
   "outputs": [],
   "source": [
    "//unpacking"
   ]
  },
  {
   "cell_type": "code",
   "execution_count": 13,
   "id": "d864274b",
   "metadata": {},
   "outputs": [
    {
     "name": "stdout",
     "output_type": "stream",
     "text": [
      "one\n"
     ]
    }
   ],
   "source": [
    "numbers=(\"one\",\"two\",\"three\",\"four\")\n",
    "(a,b,c,d)=numbers\n",
    "print(a)"
   ]
  },
  {
   "cell_type": "code",
   "execution_count": 14,
   "id": "d942901b",
   "metadata": {},
   "outputs": [
    {
     "name": "stdout",
     "output_type": "stream",
     "text": [
      "one two three four\n"
     ]
    }
   ],
   "source": [
    "numbers=(\"one\",\"two\",\"three\",\"four\")\n",
    "(a,b,c,d)=numbers\n",
    "print(a,b,c,d)"
   ]
  },
  {
   "cell_type": "code",
   "execution_count": 15,
   "id": "4fa97e8d",
   "metadata": {},
   "outputs": [
    {
     "name": "stdout",
     "output_type": "stream",
     "text": [
      "one\n",
      "two three\n",
      "four\n"
     ]
    }
   ],
   "source": [
    "numbers=(\"one\",\"two\",\"three\",\"four\")\n",
    "(a,*b,c)=numbers\n",
    "print(a)\n",
    "print(*b)\n",
    "print(c)"
   ]
  },
  {
   "cell_type": "code",
   "execution_count": null,
   "id": "b6d905d8",
   "metadata": {},
   "outputs": [],
   "source": [
    "//built in functions"
   ]
  },
  {
   "cell_type": "code",
   "execution_count": null,
   "id": "d084408a",
   "metadata": {},
   "outputs": [],
   "source": [
    "//looping in set //set is unindx so to loop we use membrshp(in) "
   ]
  },
  {
   "cell_type": "code",
   "execution_count": 16,
   "id": "491338d6",
   "metadata": {},
   "outputs": [
    {
     "name": "stdout",
     "output_type": "stream",
     "text": [
      "2\n",
      "a\n",
      "5\n",
      "PYTHON\n",
      "9.4\n"
     ]
    }
   ],
   "source": [
    "value_set={2,'PYTHON','a',5,9.4}\n",
    "for i in value_set:\n",
    "  print(i)"
   ]
  },
  {
   "cell_type": "code",
   "execution_count": 17,
   "id": "6e2b1613",
   "metadata": {},
   "outputs": [
    {
     "name": "stdout",
     "output_type": "stream",
     "text": [
      "False\n"
     ]
    }
   ],
   "source": [
    "value_set={2,'PYTHON','a',5,9.4}\n",
    "print(7 in value_set)"
   ]
  },
  {
   "cell_type": "code",
   "execution_count": 19,
   "id": "97f10d1c",
   "metadata": {},
   "outputs": [
    {
     "name": "stdout",
     "output_type": "stream",
     "text": [
      "True\n"
     ]
    }
   ],
   "source": [
    "value_set={2,'PYTHON','a',5,9.4}\n",
    "print('PYTHON' in value_set)"
   ]
  },
  {
   "cell_type": "code",
   "execution_count": 22,
   "id": "c0a2e647",
   "metadata": {},
   "outputs": [
    {
     "name": "stdout",
     "output_type": "stream",
     "text": [
      "{2, 'a', 5, 'PYTHON', 9.4, 'apple'}\n"
     ]
    }
   ],
   "source": [
    "value_set={2,'PYTHON','a',5,9.4}\n",
    "value_set.add(\"apple\")\n",
    "print(value_set)"
   ]
  },
  {
   "cell_type": "code",
   "execution_count": null,
   "id": "efe3b185",
   "metadata": {},
   "outputs": [],
   "source": [
    "//get the length of set"
   ]
  },
  {
   "cell_type": "code",
   "execution_count": 24,
   "id": "cea7aabe",
   "metadata": {},
   "outputs": [
    {
     "name": "stdout",
     "output_type": "stream",
     "text": [
      "5\n"
     ]
    }
   ],
   "source": [
    "value_set={2,'PYTHON','a',5,9.4}\n",
    "print(len(value_set))"
   ]
  },
  {
   "cell_type": "code",
   "execution_count": 26,
   "id": "c3566904",
   "metadata": {},
   "outputs": [
    {
     "name": "stdout",
     "output_type": "stream",
     "text": [
      "{2, 'a', 5, 9.4}\n"
     ]
    }
   ],
   "source": [
    "value_set={2,'PYTHON','a',5,9.4}\n",
    "value_set.remove('PYTHON')\n",
    "print(value_set)"
   ]
  },
  {
   "cell_type": "code",
   "execution_count": 27,
   "id": "2b6c9c98",
   "metadata": {},
   "outputs": [
    {
     "name": "stdout",
     "output_type": "stream",
     "text": [
      "{2, 'a', 5, 9.4}\n"
     ]
    }
   ],
   "source": [
    "value_set={2,'PYTHON','a',5,9.4}\n",
    "value_set.discard('PYTHON')\n",
    "print(value_set)"
   ]
  },
  {
   "cell_type": "code",
   "execution_count": null,
   "id": "bf81ac28",
   "metadata": {},
   "outputs": [],
   "source": []
  }
 ],
 "metadata": {
  "kernelspec": {
   "display_name": "Python 3 (ipykernel)",
   "language": "python",
   "name": "python3"
  },
  "language_info": {
   "codemirror_mode": {
    "name": "ipython",
    "version": 3
   },
   "file_extension": ".py",
   "mimetype": "text/x-python",
   "name": "python",
   "nbconvert_exporter": "python",
   "pygments_lexer": "ipython3",
   "version": "3.11.4"
  }
 },
 "nbformat": 4,
 "nbformat_minor": 5
}
