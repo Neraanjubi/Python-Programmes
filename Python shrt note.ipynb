{
 "cells": [
  {
   "cell_type": "code",
   "execution_count": 1,
   "id": "ad6bcd9c",
   "metadata": {},
   "outputs": [
    {
     "name": "stdout",
     "output_type": "stream",
     "text": [
      "enter x:2\n",
      "enter y:4\n",
      "enter x:2\n",
      "sum (2, 4.0, 2)\n",
      "product 16.0\n"
     ]
    }
   ],
   "source": [
    "x=int(input(\"enter x:\"))\n",
    "y=float(input(\"enter y:\"))\n",
    "z=int(input(\"enter x:\"))\n",
    "def sum(x,y,z):\n",
    "  s=x,y,z\n",
    "  return s\n",
    "def pro(x,y,z):\n",
    "    p=x*y*z\n",
    "    return p\n",
    "print(\"sum\",sum(x,y,z))\n",
    "print(\"product\",pro(x,y,z))"
   ]
  },
  {
   "cell_type": "code",
   "execution_count": 2,
   "id": "646bd149",
   "metadata": {},
   "outputs": [
    {
     "name": "stdout",
     "output_type": "stream",
     "text": [
      "b is greater\n"
     ]
    }
   ],
   "source": [
    "def maxi(a,b,c):\n",
    "    if a>b and a>c:\n",
    "        print(\"a is greater\")\n",
    "    elif b>c:\n",
    "        print(\"b is greater\")\n",
    "    else:\n",
    "        print(\"c is greater\")\n",
    "maxi(1,6,2)"
   ]
  },
  {
   "cell_type": "code",
   "execution_count": 3,
   "id": "6087fa42",
   "metadata": {},
   "outputs": [
    {
     "name": "stdout",
     "output_type": "stream",
     "text": [
      "enter the number:5\n",
      "enter the number:9\n",
      "not a special number\n"
     ]
    }
   ],
   "source": [
    "a=int(input(\"enter the number:\"))\n",
    "b=int(int(input(\"enter the number:\")))\n",
    "d=a+b;\n",
    "e=a*b\n",
    "if d==19:\n",
    "  print(\"d is a special number\")\n",
    "elif e==19:\n",
    "  print(\"e is a special number\")\n",
    "else:\n",
    "  print(\"not a special number\")"
   ]
  },
  {
   "cell_type": "code",
   "execution_count": 4,
   "id": "c8ed679d",
   "metadata": {},
   "outputs": [
    {
     "name": "stdout",
     "output_type": "stream",
     "text": [
      "2\n",
      "First digit :  0\n",
      "Second digit :  2\n",
      "Result 2\n",
      "special number\n"
     ]
    }
   ],
   "source": [
    "x=int(input())\n",
    "f=x//10\n",
    "s=x%10\n",
    "print(\"First digit : \",f)\n",
    "print(\"Second digit : \",s)\n",
    "result=(f+s)+(f*s)\n",
    "print(\"Result\",result)\n",
    "if x==result:\n",
    "  print(\"special number\")\n",
    "else:\n",
    "  print(\"not a special number\")"
   ]
  },
  {
   "cell_type": "code",
   "execution_count": 13,
   "id": "dc8d332a",
   "metadata": {},
   "outputs": [
    {
     "name": "stdout",
     "output_type": "stream",
     "text": [
      "5\n"
     ]
    },
    {
     "ename": "TypeError",
     "evalue": "sum() missing 2 required positional arguments: 'y' and 'z'",
     "output_type": "error",
     "traceback": [
      "\u001b[1;31m---------------------------------------------------------------------------\u001b[0m",
      "\u001b[1;31mTypeError\u001b[0m                                 Traceback (most recent call last)",
      "Cell \u001b[1;32mIn[13], line 17\u001b[0m\n\u001b[0;32m     14\u001b[0m         \u001b[38;5;28;01mreturn\u001b[39;00m \u001b[38;5;124m\"\u001b[39m\u001b[38;5;124mNot a Happy Number\u001b[39m\u001b[38;5;124m\"\u001b[39m\n\u001b[0;32m     16\u001b[0m number \u001b[38;5;241m=\u001b[39m \u001b[38;5;28mint\u001b[39m(\u001b[38;5;28minput\u001b[39m())\n\u001b[1;32m---> 17\u001b[0m \u001b[38;5;28mprint\u001b[39m(is_happy_number(number))\n",
      "Cell \u001b[1;32mIn[13], line 9\u001b[0m, in \u001b[0;36mis_happy_number\u001b[1;34m(num)\u001b[0m\n\u001b[0;32m      7\u001b[0m \u001b[38;5;28;01mwhile\u001b[39;00m num \u001b[38;5;241m!=\u001b[39m \u001b[38;5;241m1\u001b[39m \u001b[38;5;129;01mand\u001b[39;00m num \u001b[38;5;129;01mnot\u001b[39;00m \u001b[38;5;129;01min\u001b[39;00m visited_numbers:\n\u001b[0;32m      8\u001b[0m     visited_numbers\u001b[38;5;241m.\u001b[39madd(num)\n\u001b[1;32m----> 9\u001b[0m     num \u001b[38;5;241m=\u001b[39m sum_of_squares(num)\n\u001b[0;32m     11\u001b[0m \u001b[38;5;28;01mif\u001b[39;00m num \u001b[38;5;241m==\u001b[39m \u001b[38;5;241m1\u001b[39m:\n\u001b[0;32m     12\u001b[0m     \u001b[38;5;28;01mreturn\u001b[39;00m \u001b[38;5;124m\"\u001b[39m\u001b[38;5;124mHappy Number\u001b[39m\u001b[38;5;124m\"\u001b[39m\n",
      "Cell \u001b[1;32mIn[13], line 3\u001b[0m, in \u001b[0;36mis_happy_number.<locals>.sum_of_squares\u001b[1;34m(n)\u001b[0m\n\u001b[0;32m      2\u001b[0m \u001b[38;5;28;01mdef\u001b[39;00m \u001b[38;5;21msum_of_squares\u001b[39m(n):\n\u001b[1;32m----> 3\u001b[0m     \u001b[38;5;28;01mreturn\u001b[39;00m \u001b[38;5;28msum\u001b[39m(\u001b[38;5;28mint\u001b[39m(digit) \u001b[38;5;241m*\u001b[39m\u001b[38;5;241m*\u001b[39m \u001b[38;5;241m2\u001b[39m \u001b[38;5;28;01mfor\u001b[39;00m digit \u001b[38;5;129;01min\u001b[39;00m \u001b[38;5;28mstr\u001b[39m(n))\n",
      "\u001b[1;31mTypeError\u001b[0m: sum() missing 2 required positional arguments: 'y' and 'z'"
     ]
    }
   ],
   "source": [
    "def is_happy_number(num):\n",
    "    def sum_of_squares(n):\n",
    "        return sum(int(digit) ** 2 for digit in str(n))\n",
    "\n",
    "    visited_numbers = set()\n",
    "    \n",
    "    while num != 1 and num not in visited_numbers:\n",
    "        visited_numbers.add(num)\n",
    "        num = sum_of_squares(num)\n",
    "    \n",
    "    if num == 1:\n",
    "        return \"Happy Number\"\n",
    "    else:\n",
    "        return \"Not a Happy Number\"\n",
    "\n",
    "number = int(input())\n",
    "print(is_happy_number(number))"
   ]
  },
  {
   "cell_type": "code",
   "execution_count": 6,
   "id": "7704f87c",
   "metadata": {},
   "outputs": [
    {
     "name": "stdout",
     "output_type": "stream",
     "text": [
      "4\n",
      "5\n",
      "x are not same\n"
     ]
    }
   ],
   "source": [
    "x=str(input())\n",
    "y=str(input())\n",
    "if x==y:\n",
    "    print(\"x are same\")\n",
    "else:\n",
    "    print(\"x are not same\")"
   ]
  },
  {
   "cell_type": "code",
   "execution_count": 7,
   "id": "11ad8783",
   "metadata": {},
   "outputs": [
    {
     "name": "stdout",
     "output_type": "stream",
     "text": [
      "Enter a number49\n",
      "yes\n"
     ]
    }
   ],
   "source": [
    "n=int(input(\"Enter a number\"))\n",
    "if n%7==0:\n",
    "  print(\"yes\")\n",
    "else:\n",
    "  print(\"no\")"
   ]
  },
  {
   "cell_type": "code",
   "execution_count": 8,
   "id": "21be2ada",
   "metadata": {},
   "outputs": [
    {
     "name": "stdout",
     "output_type": "stream",
     "text": [
      "Enter a number3\n",
      "Enter a number2\n",
      "Enter a number6\n",
      "yes\n"
     ]
    }
   ],
   "source": [
    "n=int(input(\"Enter a number\"))\n",
    "l=int(input(\"Enter a number\"))\n",
    "r=int(input(\"Enter a number\"))\n",
    "if l<=n<=r:\n",
    "    print(\"yes\")\n",
    "else:\n",
    "    print(\"no\")"
   ]
  },
  {
   "cell_type": "code",
   "execution_count": null,
   "id": "dbe88514",
   "metadata": {
    "scrolled": true
   },
   "outputs": [],
   "source": []
  },
  {
   "cell_type": "code",
   "execution_count": 9,
   "id": "efe9bcc2",
   "metadata": {},
   "outputs": [
    {
     "name": "stdout",
     "output_type": "stream",
     "text": [
      "7\n",
      "10\n",
      "4\n",
      "no\n"
     ]
    }
   ],
   "source": [
    "n=int(input())\n",
    "l=int(input())\n",
    "r=int(input())\n",
    "if n>l and n<r:\n",
    "    print(\"yes\")\n",
    "else:\n",
    "    print(\"no\")"
   ]
  },
  {
   "cell_type": "code",
   "execution_count": 1,
   "id": "de5d0664",
   "metadata": {},
   "outputs": [
    {
     "name": "stdout",
     "output_type": "stream",
     "text": [
      "he\n"
     ]
    }
   ],
   "source": [
    "a=\"hello world\"\n",
    "print(a[:2])"
   ]
  },
  {
   "cell_type": "code",
   "execution_count": 2,
   "id": "267e48a1",
   "metadata": {},
   "outputs": [
    {
     "name": "stdout",
     "output_type": "stream",
     "text": [
      "llo world\n"
     ]
    }
   ],
   "source": [
    "a=\"hello world\"\n",
    "print(a[2:])"
   ]
  },
  {
   "cell_type": "code",
   "execution_count": 3,
   "id": "9cb3ff4d",
   "metadata": {},
   "outputs": [
    {
     "name": "stdout",
     "output_type": "stream",
     "text": [
      "l\n"
     ]
    }
   ],
   "source": [
    "a=\"hello world\"\n",
    "print(a[-2])"
   ]
  },
  {
   "cell_type": "code",
   "execution_count": 4,
   "id": "5bf8aed8",
   "metadata": {},
   "outputs": [
    {
     "name": "stdout",
     "output_type": "stream",
     "text": [
      "hello wor\n"
     ]
    }
   ],
   "source": [
    "a=\"hello world\"\n",
    "print(a[:-2])"
   ]
  },
  {
   "cell_type": "code",
   "execution_count": 5,
   "id": "8211d0cf",
   "metadata": {},
   "outputs": [
    {
     "name": "stdout",
     "output_type": "stream",
     "text": [
      "ld\n"
     ]
    }
   ],
   "source": [
    "a=\"hello world\"\n",
    "print(a[-2:])"
   ]
  },
  {
   "cell_type": "code",
   "execution_count": 6,
   "id": "c71c1b2b",
   "metadata": {},
   "outputs": [
    {
     "ename": "SyntaxError",
     "evalue": "invalid syntax (94110804.py, line 1)",
     "output_type": "error",
     "traceback": [
      "\u001b[1;36m  Cell \u001b[1;32mIn[6], line 1\u001b[1;36m\u001b[0m\n\u001b[1;33m    progrm to reves a string..\u001b[0m\n\u001b[1;37m           ^\u001b[0m\n\u001b[1;31mSyntaxError\u001b[0m\u001b[1;31m:\u001b[0m invalid syntax\n"
     ]
    }
   ],
   "source": [
    "progrm to reves a string.."
   ]
  },
  {
   "cell_type": "code",
   "execution_count": 7,
   "id": "963257f2",
   "metadata": {},
   "outputs": [
    {
     "name": "stdout",
     "output_type": "stream",
     "text": [
      "dlrow olleh\n"
     ]
    }
   ],
   "source": [
    "str=\"hello world\"\n",
    "print(str[::-1])"
   ]
  },
  {
   "cell_type": "code",
   "execution_count": 9,
   "id": "98ab1730",
   "metadata": {},
   "outputs": [
    {
     "name": "stdout",
     "output_type": "stream",
     "text": [
      "drwolh\n"
     ]
    }
   ],
   "source": [
    "str=\"hello world\"\n",
    "print(str[::-2])"
   ]
  },
  {
   "cell_type": "code",
   "execution_count": 10,
   "id": "817b4817",
   "metadata": {},
   "outputs": [
    {
     "name": "stdout",
     "output_type": "stream",
     "text": [
      "dwl\n"
     ]
    }
   ],
   "source": [
    "str=\"hello world\"\n",
    "print(str[::-4])"
   ]
  },
  {
   "cell_type": "code",
   "execution_count": 12,
   "id": "8dd9d373",
   "metadata": {},
   "outputs": [
    {
     "name": "stdout",
     "output_type": "stream",
     "text": [
      "ld\n"
     ]
    }
   ],
   "source": [
    "str=\"hello world\"\n",
    "print(str[-2::])"
   ]
  },
  {
   "cell_type": "code",
   "execution_count": 14,
   "id": "ce1d2892",
   "metadata": {},
   "outputs": [
    {
     "name": "stdout",
     "output_type": "stream",
     "text": [
      "hlowrd\n"
     ]
    }
   ],
   "source": [
    "str=\"hello world\"\n",
    "print(str[0:11:2])"
   ]
  },
  {
   "cell_type": "code",
   "execution_count": 17,
   "id": "3bbe4fb5",
   "metadata": {},
   "outputs": [
    {
     "name": "stdout",
     "output_type": "stream",
     "text": [
      "chunnuchunnumunnu\n"
     ]
    }
   ],
   "source": [
    "a=2*\"chunnu\"+\"munnu\"\n",
    "print(a)"
   ]
  },
  {
   "cell_type": "code",
   "execution_count": 20,
   "id": "0f880025",
   "metadata": {},
   "outputs": [
    {
     "name": "stdout",
     "output_type": "stream",
     "text": [
      "chunnumunnuchunnumunnu\n"
     ]
    }
   ],
   "source": [
    "a=2*\"chunnumunnu\"\n",
    "print(a)"
   ]
  },
  {
   "cell_type": "code",
   "execution_count": null,
   "id": "b931f1b6",
   "metadata": {},
   "outputs": [],
   "source": [
    "Take a user input as an integer.Use the nested if-else statement to determine and print whether the number is:\n",
    "..  positive and even\n",
    "    negative and odd\n",
    "    negative\n",
    "    zero"
   ]
  },
  {
   "cell_type": "code",
   "execution_count": 22,
   "id": "53b4a21b",
   "metadata": {},
   "outputs": [
    {
     "name": "stdout",
     "output_type": "stream",
     "text": [
      "enter the number:2\n",
      "The number is positive and even\n"
     ]
    }
   ],
   "source": [
    "num=int(input(\"enter the number:\"))\n",
    "if num==0:\n",
    "  print(\"The number is zero\")\n",
    "else:\n",
    "  if num>0:\n",
    "    if num%2==0:\n",
    "      print(\"The number is positive and even\")\n",
    "    else:\n",
    "      print(\"The number is positive and odd\")\n",
    "\n",
    "  else:\n",
    "    if num%2==0:\n",
    "      print(\"The number is negative and even\")\n",
    "    else:\n",
    "      print(\"The nuumber is negative and odd\")"
   ]
  },
  {
   "cell_type": "code",
   "execution_count": 23,
   "id": "5e0a7e48",
   "metadata": {},
   "outputs": [
    {
     "name": "stdout",
     "output_type": "stream",
     "text": [
      "enter the number:2\n",
      "The number is positive and even\n"
     ]
    }
   ],
   "source": [
    "num=int(input(\"enter the number:\"))\n",
    "if num<0:\n",
    "    if num%2!=0:\n",
    "      print(\"The number is negative and odd\")\n",
    "      print(\"negative\")\n",
    "if num>0:\n",
    "  if num%2==0:\n",
    "     print(\"The number is positive and even\")\n",
    "if num==0:\n",
    "  print(\"zero\")\n"
   ]
  },
  {
   "cell_type": "code",
   "execution_count": 24,
   "id": "13a382cb",
   "metadata": {},
   "outputs": [
    {
     "name": "stdout",
     "output_type": "stream",
     "text": [
      "enter the number:4\n",
      "The number is positive and even\n",
      "positive\n"
     ]
    }
   ],
   "source": [
    "num=int(input(\"enter the number:\"))\n",
    "if num<0:\n",
    "    if num%2!=0:\n",
    "      print(\"The number is negative and odd\")\n",
    "      print(\"negative\")\n",
    "    elif num %2==0:\n",
    "      print(\"negative\")\n",
    "if num>0:\n",
    "  if num%2==0:\n",
    "     print(\"The number is positive and even\")\n",
    "     print(\"positive\")\n",
    "  elif num%2!=0:\n",
    "    print(\"positive\")\n",
    "if num==0:\n",
    "  print(\"zero\")"
   ]
  },
  {
   "cell_type": "code",
   "execution_count": 1,
   "id": "28caba2f",
   "metadata": {},
   "outputs": [
    {
     "name": "stdout",
     "output_type": "stream",
     "text": [
      "enter a number4\n",
      "enter a number3\n",
      "enter a number2\n",
      "3 is second  greater\n"
     ]
    }
   ],
   "source": [
    "a = int(input(\"enter a number\"))\n",
    "b = int(input(\"enter a number\"))\n",
    "c = int(input(\"enter a number\"))\n",
    "if ((a>b and a<c)or(a>c and a<b)):\n",
    "    print(a,\"is second  greater\")\n",
    "elif ((b>a and b<c)or(b>c and b<a)):\n",
    "    print(b,\"is second  greater\")\n",
    "else:\n",
    "    print(c,\"is greater\")"
   ]
  },
  {
   "cell_type": "code",
   "execution_count": 3,
   "id": "90dcad54",
   "metadata": {},
   "outputs": [
    {
     "name": "stdout",
     "output_type": "stream",
     "text": [
      "enter a number45\n",
      "enter a number5.1\n",
      "1.7301038062283738\n"
     ]
    }
   ],
   "source": [
    "x = int(input(\"enter a number\"))\n",
    "y = float(input(\"enter a number\"))\n",
    "z = x/(y*y)\n",
    "print(z)"
   ]
  },
  {
   "cell_type": "code",
   "execution_count": 1,
   "id": "6abf14af",
   "metadata": {},
   "outputs": [
    {
     "name": "stdout",
     "output_type": "stream",
     "text": [
      "[1, 2, 3, 4]\n"
     ]
    }
   ],
   "source": [
    "num=[1,2,3,4]\n",
    "print(num)"
   ]
  },
  {
   "cell_type": "code",
   "execution_count": 2,
   "id": "74623320",
   "metadata": {},
   "outputs": [
    {
     "name": "stdout",
     "output_type": "stream",
     "text": [
      "[12.5, 35.6, 7.1]\n"
     ]
    }
   ],
   "source": [
    "num=[12.5,35.6,07.1]\n",
    "print(num)"
   ]
  },
  {
   "cell_type": "code",
   "execution_count": 3,
   "id": "f66c0b07",
   "metadata": {},
   "outputs": [
    {
     "name": "stdout",
     "output_type": "stream",
     "text": [
      "['a', 'b', 'c', 'd']\n"
     ]
    }
   ],
   "source": [
    "letter=['a','b','c','d']\n",
    "print(letter)\n"
   ]
  },
  {
   "cell_type": "code",
   "execution_count": 5,
   "id": "8b633250",
   "metadata": {},
   "outputs": [
    {
     "name": "stdout",
     "output_type": "stream",
     "text": [
      "['apple', 'graphs', 'choclate']\n"
     ]
    }
   ],
   "source": [
    "d=['apple','graphs','choclate']\n",
    "print(d)"
   ]
  },
  {
   "cell_type": "code",
   "execution_count": 7,
   "id": "40c6ac96",
   "metadata": {},
   "outputs": [
    {
     "name": "stdout",
     "output_type": "stream",
     "text": [
      "(1, 12.5, 'a', 'python')\n"
     ]
    }
   ],
   "source": [
    "mix=(1,12.5,'a',\"python\")\n",
    "print(mix)"
   ]
  },
  {
   "cell_type": "code",
   "execution_count": 8,
   "id": "0823f936",
   "metadata": {},
   "outputs": [
    {
     "name": "stdout",
     "output_type": "stream",
     "text": [
      "[[1, 2], ['a', 'b']]\n"
     ]
    }
   ],
   "source": [
    "x=[[1,2],['a','b']]\n",
    "print(x)"
   ]
  },
  {
   "cell_type": "code",
   "execution_count": 9,
   "id": "3e5d0f70",
   "metadata": {},
   "outputs": [
    {
     "name": "stdout",
     "output_type": "stream",
     "text": [
      "[[1, 2], [10.5, 3.2], ['a', 'b']]\n"
     ]
    }
   ],
   "source": [
    "x=[[1,2],[10.5,3.2],['a','b']]\n",
    "print(x)"
   ]
  },
  {
   "cell_type": "code",
   "execution_count": 10,
   "id": "737ee1aa",
   "metadata": {},
   "outputs": [
    {
     "name": "stdout",
     "output_type": "stream",
     "text": [
      "1\n"
     ]
    }
   ],
   "source": [
    "a=[1,12.5,'a',\"python\"]\n",
    "print(a[0])"
   ]
  },
  {
   "cell_type": "code",
   "execution_count": 11,
   "id": "a0ff6873",
   "metadata": {},
   "outputs": [
    {
     "name": "stdout",
     "output_type": "stream",
     "text": [
      "python\n"
     ]
    }
   ],
   "source": [
    "a=[1,12.5,'a',\"python\"]\n",
    "print(a[-1])"
   ]
  },
  {
   "cell_type": "code",
   "execution_count": 12,
   "id": "102159cb",
   "metadata": {},
   "outputs": [
    {
     "name": "stdout",
     "output_type": "stream",
     "text": [
      "[1, 12.5]\n"
     ]
    }
   ],
   "source": [
    "a=[1,12.5,'a',\"python\"]\n",
    "print(a[:2])"
   ]
  },
  {
   "cell_type": "code",
   "execution_count": 14,
   "id": "210afbcc",
   "metadata": {},
   "outputs": [
    {
     "name": "stdout",
     "output_type": "stream",
     "text": [
      "[1]\n"
     ]
    }
   ],
   "source": [
    "a=[1,12.5,'a',\"python\"]\n",
    "print(a[::4])"
   ]
  },
  {
   "cell_type": "code",
   "execution_count": 15,
   "id": "33a922bf",
   "metadata": {},
   "outputs": [
    {
     "name": "stdout",
     "output_type": "stream",
     "text": [
      "[1, 12.5, 'a', 'python']\n"
     ]
    }
   ],
   "source": [
    "a=[1,12.5,'a',\"python\"]\n",
    "print(a[::1])"
   ]
  },
  {
   "cell_type": "code",
   "execution_count": 16,
   "id": "3e5f368a",
   "metadata": {},
   "outputs": [
    {
     "ename": "ValueError",
     "evalue": "slice step cannot be zero",
     "output_type": "error",
     "traceback": [
      "\u001b[1;31m---------------------------------------------------------------------------\u001b[0m",
      "\u001b[1;31mValueError\u001b[0m                                Traceback (most recent call last)",
      "Cell \u001b[1;32mIn[16], line 2\u001b[0m\n\u001b[0;32m      1\u001b[0m a\u001b[38;5;241m=\u001b[39m[\u001b[38;5;241m1\u001b[39m,\u001b[38;5;241m12.5\u001b[39m,\u001b[38;5;124m'\u001b[39m\u001b[38;5;124ma\u001b[39m\u001b[38;5;124m'\u001b[39m,\u001b[38;5;124m\"\u001b[39m\u001b[38;5;124mpython\u001b[39m\u001b[38;5;124m\"\u001b[39m]\n\u001b[1;32m----> 2\u001b[0m \u001b[38;5;28mprint\u001b[39m(a[::\u001b[38;5;241m0\u001b[39m])\n",
      "\u001b[1;31mValueError\u001b[0m: slice step cannot be zero"
     ]
    }
   ],
   "source": [
    "a=[1,12.5,'a',\"python\"]\n",
    "print(a[::0])"
   ]
  },
  {
   "cell_type": "code",
   "execution_count": 17,
   "id": "c4d5d1e7",
   "metadata": {},
   "outputs": [
    {
     "name": "stdout",
     "output_type": "stream",
     "text": [
      "[1, 12.5, 'a', 'python']\n"
     ]
    }
   ],
   "source": [
    "a=[1,12.5,'a',\"python\"]\n",
    "print(a[-4::])"
   ]
  },
  {
   "cell_type": "code",
   "execution_count": null,
   "id": "7c3b16fe",
   "metadata": {},
   "outputs": [],
   "source": [
    "oprtions "
   ]
  },
  {
   "cell_type": "code",
   "execution_count": 18,
   "id": "c496f66e",
   "metadata": {},
   "outputs": [
    {
     "name": "stdout",
     "output_type": "stream",
     "text": [
      "[[0, 0, 0, 0, 0]]\n"
     ]
    }
   ],
   "source": [
    "a=[0]*5\n",
    "print([a])"
   ]
  },
  {
   "cell_type": "code",
   "execution_count": 20,
   "id": "6ef14615",
   "metadata": {},
   "outputs": [
    {
     "name": "stdout",
     "output_type": "stream",
     "text": [
      "['a', 'b', 'c', 'd', 'python', 'list']\n"
     ]
    }
   ],
   "source": [
    "letter=['a','b','c','d']\n",
    "stg=['python','list']\n",
    "conc=letter+stg\n",
    "print(conc)"
   ]
  },
  {
   "cell_type": "code",
   "execution_count": 21,
   "id": "048dceb8",
   "metadata": {},
   "outputs": [
    {
     "name": "stdout",
     "output_type": "stream",
     "text": [
      "['p', 'y', 't', 'h', 'o', 'n']\n"
     ]
    }
   ],
   "source": [
    "a=list(\"python\")\n",
    "print(a)"
   ]
  },
  {
   "cell_type": "code",
   "execution_count": 24,
   "id": "960044e0",
   "metadata": {},
   "outputs": [
    {
     "name": "stdout",
     "output_type": "stream",
     "text": [
      "[1, 2, 3, 4, 5]\n",
      "1\n"
     ]
    }
   ],
   "source": [
    "num=[1,2,3,4,5]\n",
    "print(num)\n",
    "a,*other=num\n",
    "print(a)"
   ]
  },
  {
   "cell_type": "code",
   "execution_count": 25,
   "id": "9c71858c",
   "metadata": {},
   "outputs": [
    {
     "name": "stdout",
     "output_type": "stream",
     "text": [
      "[1, 2, 3, 4, 5]\n",
      "1\n",
      "[2, 3, 4, 5]\n"
     ]
    }
   ],
   "source": [
    "num=[1,2,3,4,5]\n",
    "print(num)\n",
    "a,*other=num\n",
    "print(a)\n",
    "print(other)"
   ]
  },
  {
   "cell_type": "code",
   "execution_count": 1,
   "id": "8e1b6f32",
   "metadata": {},
   "outputs": [
    {
     "name": "stdout",
     "output_type": "stream",
     "text": [
      "apple\n",
      "bannana\n",
      "grapes\n"
     ]
    }
   ],
   "source": [
    "a=[\"apple\",\"bannana\",\"grapes\"]\n",
    "for i in a: \n",
    "  print(i)"
   ]
  },
  {
   "cell_type": "code",
   "execution_count": 4,
   "id": "ffac93fb",
   "metadata": {},
   "outputs": [
    {
     "name": "stdout",
     "output_type": "stream",
     "text": [
      "apple\n",
      "bannana\n"
     ]
    }
   ],
   "source": [
    "a=[\"apple\",\"bannana\",\"grapes\"]\n",
    "for i in a: \n",
    "  if i==\"grapes\":\n",
    "    continue\n",
    "  print(i)"
   ]
  },
  {
   "cell_type": "code",
   "execution_count": 8,
   "id": "09eb73f9",
   "metadata": {},
   "outputs": [
    {
     "name": "stdout",
     "output_type": "stream",
     "text": [
      "10\n",
      "20\n",
      "30\n",
      "40\n",
      "50\n"
     ]
    }
   ],
   "source": [
    "x=[2,4,6,8,10]\n",
    "for i in x:\n",
    "  a= i*5\n",
    "  print(a)"
   ]
  },
  {
   "cell_type": "code",
   "execution_count": 9,
   "id": "8f073447",
   "metadata": {},
   "outputs": [
    {
     "name": "stdout",
     "output_type": "stream",
     "text": [
      "[1, 2, 3, 4]\n",
      "[1, 2, 3, 4, 6]\n"
     ]
    }
   ],
   "source": [
    "num=[1,2,3,4]\n",
    "print(num)\n",
    "num.append(6)\n",
    "print(num)"
   ]
  },
  {
   "cell_type": "code",
   "execution_count": 10,
   "id": "7c99608e",
   "metadata": {},
   "outputs": [
    {
     "name": "stdout",
     "output_type": "stream",
     "text": [
      "[1, 2, 3, 4]\n"
     ]
    },
    {
     "ename": "TypeError",
     "evalue": "list.append() takes exactly one argument (2 given)",
     "output_type": "error",
     "traceback": [
      "\u001b[1;31m---------------------------------------------------------------------------\u001b[0m",
      "\u001b[1;31mTypeError\u001b[0m                                 Traceback (most recent call last)",
      "Cell \u001b[1;32mIn[10], line 3\u001b[0m\n\u001b[0;32m      1\u001b[0m num\u001b[38;5;241m=\u001b[39m[\u001b[38;5;241m1\u001b[39m,\u001b[38;5;241m2\u001b[39m,\u001b[38;5;241m3\u001b[39m,\u001b[38;5;241m4\u001b[39m]\n\u001b[0;32m      2\u001b[0m \u001b[38;5;28mprint\u001b[39m(num)\n\u001b[1;32m----> 3\u001b[0m num\u001b[38;5;241m.\u001b[39mappend(\u001b[38;5;241m7\u001b[39m,\u001b[38;5;241m8\u001b[39m)\n\u001b[0;32m      4\u001b[0m \u001b[38;5;28mprint\u001b[39m(num)\n",
      "\u001b[1;31mTypeError\u001b[0m: list.append() takes exactly one argument (2 given)"
     ]
    }
   ],
   "source": [
    "num=[1,2,3,4]\n",
    "print(num)\n",
    "num.append(7,8)\n",
    "print(num)"
   ]
  },
  {
   "cell_type": "code",
   "execution_count": 11,
   "id": "0ea319b5",
   "metadata": {},
   "outputs": [
    {
     "name": "stdout",
     "output_type": "stream",
     "text": [
      "[1, 2, 3, 4]\n",
      "[1, 2, 3, 4, 8]\n"
     ]
    }
   ],
   "source": [
    "num=[1,2,3,4]\n",
    "print(num)\n",
    "num.append(8)\n",
    "print(num)"
   ]
  },
  {
   "cell_type": "code",
   "execution_count": 13,
   "id": "dd7553e8",
   "metadata": {},
   "outputs": [
    {
     "name": "stdout",
     "output_type": "stream",
     "text": [
      "[1, 2, 3, 4, 'python']\n"
     ]
    }
   ],
   "source": [
    "num=[1,2,3,4]\n",
    "stg=['python']\n",
    "x=num+stg\n",
    "print(x)"
   ]
  },
  {
   "cell_type": "code",
   "execution_count": 14,
   "id": "1d598103",
   "metadata": {},
   "outputs": [
    {
     "name": "stdout",
     "output_type": "stream",
     "text": [
      "[1, 2, 3, 4, 'python']\n"
     ]
    }
   ],
   "source": [
    "num=[1,2,3,4]\n",
    "stg=['python']\n",
    "num.extend(stg)\n",
    "print(num)"
   ]
  },
  {
   "cell_type": "code",
   "execution_count": 16,
   "id": "06d818d3",
   "metadata": {},
   "outputs": [
    {
     "name": "stdout",
     "output_type": "stream",
     "text": [
      "['python', 1, 2, 3, 4]\n"
     ]
    }
   ],
   "source": [
    "num=[1,2,3,4]\n",
    "stg=['python']\n",
    "stg.extend(num)\n",
    "print(stg)"
   ]
  },
  {
   "cell_type": "code",
   "execution_count": 17,
   "id": "1eaf8dd3",
   "metadata": {},
   "outputs": [
    {
     "name": "stdout",
     "output_type": "stream",
     "text": [
      "[1, 2, 3, 4, 'List', 'python']\n"
     ]
    }
   ],
   "source": [
    "num=[1,2,3,4]\n",
    "stg=['python']\n",
    "num.extend(stg)\n",
    "num.insert(4,\"List\")\n",
    "print(num)"
   ]
  },
  {
   "cell_type": "code",
   "execution_count": 18,
   "id": "9d2aaa0b",
   "metadata": {},
   "outputs": [
    {
     "name": "stdout",
     "output_type": "stream",
     "text": [
      "['Anju', 1, 2, 3, 4, 'python']\n"
     ]
    }
   ],
   "source": [
    "num=[1,2,3,4]\n",
    "stg=['python']\n",
    "num.extend(stg)\n",
    "num.insert(0,\"Anju\")\n",
    "print(num)"
   ]
  },
  {
   "cell_type": "code",
   "execution_count": 19,
   "id": "d34f0d80",
   "metadata": {},
   "outputs": [
    {
     "name": "stdout",
     "output_type": "stream",
     "text": [
      "[1, 2, 3, 4, 'python']\n",
      "[1, 2, 3, 'python']\n"
     ]
    }
   ],
   "source": [
    "num=[1,2,3,4]\n",
    "stg=['python']\n",
    "num.extend(stg)\n",
    "print(num)\n",
    "num.remove(4)\n",
    "print(num)"
   ]
  },
  {
   "cell_type": "code",
   "execution_count": 20,
   "id": "bee48104",
   "metadata": {},
   "outputs": [
    {
     "name": "stdout",
     "output_type": "stream",
     "text": [
      "['a', 'b', 'f', 'y', 'z']\n"
     ]
    }
   ],
   "source": [
    "a=['z','y','f','a','b']\n",
    "a.sort()\n",
    "print(a)"
   ]
  },
  {
   "cell_type": "code",
   "execution_count": 21,
   "id": "b51a3186",
   "metadata": {},
   "outputs": [
    {
     "name": "stdout",
     "output_type": "stream",
     "text": [
      "['z', 'y', 'f', 'b', 'a']\n"
     ]
    }
   ],
   "source": [
    "a=['z','y','f','a','b']\n",
    "a.sort(reverse=True)\n",
    "print(a)"
   ]
  },
  {
   "cell_type": "code",
   "execution_count": 22,
   "id": "f37f9bcf",
   "metadata": {},
   "outputs": [
    {
     "name": "stdout",
     "output_type": "stream",
     "text": [
      "6\n"
     ]
    }
   ],
   "source": [
    "a=[9,17,14,4,90,55]\n",
    "print(len(a))"
   ]
  },
  {
   "cell_type": "code",
   "execution_count": 23,
   "id": "66de7919",
   "metadata": {},
   "outputs": [
    {
     "name": "stdout",
     "output_type": "stream",
     "text": [
      "4\n"
     ]
    }
   ],
   "source": [
    "a=[9,17,14,4,90,55]\n",
    "print(min(a))"
   ]
  },
  {
   "cell_type": "code",
   "execution_count": 24,
   "id": "dcefe691",
   "metadata": {},
   "outputs": [
    {
     "name": "stdout",
     "output_type": "stream",
     "text": [
      "90\n"
     ]
    }
   ],
   "source": [
    "a=[9,17,14,4,90,55]\n",
    "print(max(a))"
   ]
  },
  {
   "cell_type": "code",
   "execution_count": 25,
   "id": "d7619661",
   "metadata": {},
   "outputs": [
    {
     "name": "stdout",
     "output_type": "stream",
     "text": [
      "189\n"
     ]
    }
   ],
   "source": [
    "a=[9,17,14,4,90,55]\n",
    "print(sum(a))"
   ]
  },
  {
   "cell_type": "code",
   "execution_count": 26,
   "id": "5fe0e1b6",
   "metadata": {},
   "outputs": [
    {
     "name": "stdout",
     "output_type": "stream",
     "text": [
      "31.5\n"
     ]
    }
   ],
   "source": [
    "//mean\n",
    "a=[9,17,14,4,90,55]\n",
    "b=(sum(a)/len(a))\n",
    "print(b)"
   ]
  },
  {
   "cell_type": "code",
   "execution_count": 27,
   "id": "1687cd79",
   "metadata": {},
   "outputs": [
    {
     "name": "stdout",
     "output_type": "stream",
     "text": [
      "[1, 2, 3, 4, 5, 6, 7, 8, 9, 10]\n"
     ]
    }
   ],
   "source": [
    "list1=list(range(1,11))\n",
    "print(list1)"
   ]
  },
  {
   "cell_type": "code",
   "execution_count": 29,
   "id": "17d246af",
   "metadata": {},
   "outputs": [
    {
     "name": "stdout",
     "output_type": "stream",
     "text": [
      "[1, 2, 3, 4, 5, 6, 7, 8, 9, 10]\n",
      "[1, 3, 5, 7, 9]\n"
     ]
    }
   ],
   "source": [
    "list1=list(range(1,11))\n",
    "print(list1)\n",
    "odd=list1[::2]\n",
    "print(odd)"
   ]
  },
  {
   "cell_type": "code",
   "execution_count": 34,
   "id": "1b884205",
   "metadata": {},
   "outputs": [
    {
     "name": "stdout",
     "output_type": "stream",
     "text": [
      "[1, 2, 3, 4, 5, 6, 7, 8, 9, 10]\n",
      "[2, 4, 6, 8, 10]\n"
     ]
    }
   ],
   "source": [
    "list1=list(range(1,11))\n",
    "print(list1)\n",
    "even=list1[1::2]\n",
    "print(even)"
   ]
  },
  {
   "cell_type": "code",
   "execution_count": 35,
   "id": "b9ce9e3e",
   "metadata": {},
   "outputs": [
    {
     "name": "stdout",
     "output_type": "stream",
     "text": [
      "10 <class 'int'>\n"
     ]
    }
   ],
   "source": [
    "a=10.67\n",
    "type(a)\n",
    "b=int(a)\n",
    "print(b,type(b))"
   ]
  },
  {
   "cell_type": "code",
   "execution_count": 37,
   "id": "c6b123a0",
   "metadata": {},
   "outputs": [
    {
     "name": "stdout",
     "output_type": "stream",
     "text": [
      "(17.56+20j) 17 20\n"
     ]
    }
   ],
   "source": [
    "x=17.56+20j\n",
    "y=int(x.real)\n",
    "z=int(x.imag)\n",
    "print(x,y,z)"
   ]
  },
  {
   "cell_type": "code",
   "execution_count": 38,
   "id": "3150b03e",
   "metadata": {},
   "outputs": [
    {
     "name": "stdout",
     "output_type": "stream",
     "text": [
      "100 <class 'int'>\n"
     ]
    }
   ],
   "source": [
    "x = \"100\"\n",
    "t = int(x)\n",
    "print(t,type(t))\n",
    "\n"
   ]
  },
  {
   "cell_type": "code",
   "execution_count": 40,
   "id": "2e45b622",
   "metadata": {},
   "outputs": [
    {
     "name": "stdout",
     "output_type": "stream",
     "text": [
      "True 1 <class 'int'>\n"
     ]
    }
   ],
   "source": [
    "x = True\n",
    "y = int(x)\n",
    "print(x,y,type(y))\n"
   ]
  },
  {
   "cell_type": "code",
   "execution_count": 41,
   "id": "3bec726e",
   "metadata": {},
   "outputs": [
    {
     "name": "stdout",
     "output_type": "stream",
     "text": [
      "<class 'complex'> <class 'type'>\n"
     ]
    }
   ],
   "source": [
    "x=complex\n",
    "print(x,type(x))\n",
    "\n",
    "\n"
   ]
  },
  {
   "cell_type": "code",
   "execution_count": 43,
   "id": "2e0e1133",
   "metadata": {},
   "outputs": [
    {
     "name": "stdout",
     "output_type": "stream",
     "text": [
      "<class 'complex'> <class 'type'>\n",
      "(7.7+0j) <class 'complex'>\n",
      "(1+0j) <class 'complex'>\n",
      "(1+0j) <class 'complex'>\n"
     ]
    }
   ],
   "source": [
    "x=complex\n",
    "print(x,type(x))\n",
    "y=complex(7.7)\n",
    "print(y,type(y))\n",
    "z=complex(True)\n",
    "print(z,type(z))\n",
    "s=complex(True)\n",
    "print(s,type(s))\n"
   ]
  },
  {
   "cell_type": "code",
   "execution_count": 1,
   "id": "38f247a6",
   "metadata": {},
   "outputs": [
    {
     "name": "stdout",
     "output_type": "stream",
     "text": [
      "Enter the first number: 4\n",
      "Enter the second number: 3\n",
      "The greatest number is: 4.0\n"
     ]
    }
   ],
   "source": [
    "num1 = float(input(\"Enter the first number: \"))\n",
    "num2 = float(input(\"Enter the second number: \"))\n",
    "if num1 > num2:\n",
    "    print(f\"The greatest number is: {num1}\")\n",
    "elif num2 > num1:\n",
    "    print(f\"The greatest number is: {num2}\")\n",
    "else:\n",
    "    print(\"Both numbers are equal.\")\n"
   ]
  },
  {
   "cell_type": "code",
   "execution_count": 2,
   "id": "3cfc0e03",
   "metadata": {},
   "outputs": [
    {
     "name": "stdout",
     "output_type": "stream",
     "text": [
      "Reversed number: 654\n"
     ]
    }
   ],
   "source": [
    "x = 456\n",
    "reversed_number = 0\n",
    "while x > 0:\n",
    "    digit = x % 10\n",
    "    reversed_number = reversed_number * 10 + digit\n",
    "    x //= 10\n",
    "print(\"Reversed number:\", reversed_number)\n"
   ]
  },
  {
   "cell_type": "code",
   "execution_count": 3,
   "id": "8ad1f966",
   "metadata": {},
   "outputs": [
    {
     "name": "stdout",
     "output_type": "stream",
     "text": [
      "Enter the first number: 5\n",
      "Enter the second number: 3\n",
      "Enter the third number: 1\n",
      "Enter the fourth number: 7\n",
      "The smallest number is: 1.0\n"
     ]
    }
   ],
   "source": [
    "num1 = float(input(\"Enter the first number: \"))\n",
    "num2 = float(input(\"Enter the second number: \"))\n",
    "num3 = float(input(\"Enter the third number: \"))\n",
    "num4 = float(input(\"Enter the fourth number: \"))\n",
    "# Initialize the smallest number\n",
    "smallest = num1\n",
    "# Compare with the other numbers\n",
    "if num2 < smallest:\n",
    "    smallest = num2\n",
    "if num3 < smallest:\n",
    "    smallest = num3\n",
    "if num4 < smallest:\n",
    "    smallest = num4\n",
    "print(f\"The smallest number is: {smallest}\")\n",
    "\n"
   ]
  },
  {
   "cell_type": "code",
   "execution_count": 6,
   "id": "5e582b0b",
   "metadata": {},
   "outputs": [
    {
     "name": "stdout",
     "output_type": "stream",
     "text": [
      "Enter a number: 0\n",
      "The number is zero.\n"
     ]
    }
   ],
   "source": [
    "num = float(input(\"Enter a number: \"))\n",
    "# Check if the number is positive, negative, or zero\n",
    "if num > 0:\n",
    "    print(\"The number is positive.\")\n",
    "elif num < 0:\n",
    "    print(\"The number is negative.\")\n",
    "else:\n",
    "    print(\"The number is zero.\")\n"
   ]
  },
  {
   "cell_type": "code",
   "execution_count": 14,
   "id": "28437a13",
   "metadata": {},
   "outputs": [
    {
     "ename": "IndentationError",
     "evalue": "unexpected indent (2729178354.py, line 3)",
     "output_type": "error",
     "traceback": [
      "\u001b[1;36m  Cell \u001b[1;32mIn[14], line 3\u001b[1;36m\u001b[0m\n\u001b[1;33m    num = int(input(\"Enter a number: \"))\u001b[0m\n\u001b[1;37m    ^\u001b[0m\n\u001b[1;31mIndentationError\u001b[0m\u001b[1;31m:\u001b[0m unexpected indent\n"
     ]
    }
   ],
   "source": [
    "import math\n",
    "\n",
    "    num = int(input(\"Enter a number: \"))\n",
    "    sqrt_num = int(math.sqrt(num))\n",
    "    if is_perfect_square(num):\n",
    "        print(num, \"is a perfect square.\")\n",
    "    else:\n",
    "        print(num, \"is not a perfect square.\")\n"
   ]
  },
  {
   "cell_type": "code",
   "execution_count": 15,
   "id": "e08b61c5",
   "metadata": {},
   "outputs": [
    {
     "name": "stdout",
     "output_type": "stream",
     "text": [
      "Enter a character: a\n"
     ]
    },
    {
     "ename": "NameError",
     "evalue": "name 'is_vowel' is not defined",
     "output_type": "error",
     "traceback": [
      "\u001b[1;31m---------------------------------------------------------------------------\u001b[0m",
      "\u001b[1;31mNameError\u001b[0m                                 Traceback (most recent call last)",
      "Cell \u001b[1;32mIn[15], line 2\u001b[0m\n\u001b[0;32m      1\u001b[0m char \u001b[38;5;241m=\u001b[39m \u001b[38;5;28minput\u001b[39m(\u001b[38;5;124m\"\u001b[39m\u001b[38;5;124mEnter a character: \u001b[39m\u001b[38;5;124m\"\u001b[39m)\n\u001b[1;32m----> 2\u001b[0m \u001b[38;5;28;01mif\u001b[39;00m is_vowel(char):\n\u001b[0;32m      3\u001b[0m   \u001b[38;5;28mprint\u001b[39m(char, \u001b[38;5;124m\"\u001b[39m\u001b[38;5;124mis a vowel.\u001b[39m\u001b[38;5;124m\"\u001b[39m)\n\u001b[0;32m      4\u001b[0m \u001b[38;5;28;01melse\u001b[39;00m:\n",
      "\u001b[1;31mNameError\u001b[0m: name 'is_vowel' is not defined"
     ]
    }
   ],
   "source": [
    "char = input(\"Enter a character: \")\n",
    "if is_vowel(char):\n",
    "  print(char, \"is a vowel.\")\n",
    "else:\n",
    "  print(char, \"is a consonant.\")\n"
   ]
  },
  {
   "cell_type": "code",
   "execution_count": 16,
   "id": "dbd4ac28",
   "metadata": {},
   "outputs": [
    {
     "name": "stdout",
     "output_type": "stream",
     "text": [
      "4\n",
      "5\n",
      "6\n",
      "7\n",
      "8\n",
      "9\n",
      "10\n"
     ]
    }
   ],
   "source": [
    "a = 4\n",
    "b = 10\n",
    "\n",
    "# Check if a is greater than or equal to b\n",
    "if a >= b:\n",
    "    print(\"a should be less than or equal to b to print the numbers.\")\n",
    "else:\n",
    "    # Initialize the current number\n",
    "    current = a\n",
    "    \n",
    "    # Use a while loop to print numbers from a to b\n",
    "    while current <= b:\n",
    "        print(current)\n",
    "        current += 1\n"
   ]
  },
  {
   "cell_type": "code",
   "execution_count": 1,
   "id": "d07cb24e",
   "metadata": {},
   "outputs": [
    {
     "name": "stdout",
     "output_type": "stream",
     "text": [
      "Enter a number: 5\n",
      "The number of digits in 5 is 1\n"
     ]
    }
   ],
   "source": [
    "def count_digits(number):\n",
    "  count = 0\n",
    "  while number > 0:\n",
    "    number //= 10\n",
    "    count += 1\n",
    "  return count\n",
    "number = int(input(\"Enter a number: \"))\n",
    "num_digits = count_digits(number)\n",
    "print(\"The number of digits in\", number, \"is\", num_digits)\n"
   ]
  },
  {
   "cell_type": "code",
   "execution_count": 3,
   "id": "808049ca",
   "metadata": {},
   "outputs": [
    {
     "name": "stdout",
     "output_type": "stream",
     "text": [
      "Enter the lower limit: 2\n",
      "Enter the number to check: 4\n",
      "Enter the upper limit: 5\n",
      "Yes\n"
     ]
    }
   ],
   "source": [
    "L = int(input(\"Enter the lower limit: \"))\n",
    "N = int(input(\"Enter the number to check: \"))\n",
    "R = int(input(\"Enter the upper limit: \"))\n",
    "\n",
    "if L <= N <= R:\n",
    "    print(\"Yes\")\n",
    "else:\n",
    "    print(\"No\")\n"
   ]
  },
  {
   "cell_type": "code",
   "execution_count": 4,
   "id": "32c72f3f",
   "metadata": {},
   "outputs": [
    {
     "name": "stdout",
     "output_type": "stream",
     "text": [
      "1\n",
      "2\n",
      "3\n",
      "4\n",
      "5\n",
      "6\n",
      "7\n",
      "8\n",
      "9\n",
      "10\n"
     ]
    }
   ],
   "source": [
    "for i in range(1, 11):\n",
    "    print(i)\n"
   ]
  },
  {
   "cell_type": "code",
   "execution_count": 7,
   "id": "49a13c10",
   "metadata": {},
   "outputs": [
    {
     "name": "stdout",
     "output_type": "stream",
     "text": [
      "Enter a string: s22\n",
      "Number of alphabets: 1\n",
      "Number of digits: 2\n"
     ]
    }
   ],
   "source": [
    "def count_alphabets_and_digits(string):\n",
    "  alphabets = 0\n",
    "  digits = 0\n",
    "\n",
    "  for char in string:\n",
    "    if char.isalpha():\n",
    "      alphabets += 1\n",
    "    elif char.isdigit():\n",
    "      digits += 1\n",
    "\n",
    "  return alphabets, digits\n",
    "\n",
    "# Get user input\n",
    "string = input(\"Enter a string: \")\n",
    "\n",
    "# Count alphabets and digits\n",
    "alphabets, digits = count_alphabets_and_digits(string)\n",
    "\n",
    "print(\"Number of alphabets:\", alphabets)\n",
    "print(\"Number of digits:\", digits)\n"
   ]
  },
  {
   "cell_type": "code",
   "execution_count": 11,
   "id": "29ec6fac",
   "metadata": {},
   "outputs": [
    {
     "name": "stdout",
     "output_type": "stream",
     "text": [
      "The sum of numbers from 5 to 10 is: 45\n"
     ]
    }
   ],
   "source": [
    "def sum_of_range(start, end):\n",
    "    sum = 0\n",
    "    for num in range(start, end + 1):\n",
    "        sum += num\n",
    "    return sum\n",
    "result = sum_of_range(5, 10)\n",
    "print(\"The sum of numbers from 5 to 10 is:\", result)\n"
   ]
  },
  {
   "cell_type": "code",
   "execution_count": 14,
   "id": "8ad1f537",
   "metadata": {},
   "outputs": [
    {
     "name": "stdout",
     "output_type": "stream",
     "text": [
      "Enter a number: 5\n",
      "The factorial of 5 is: 5\n"
     ]
    }
   ],
   "source": [
    "def factorial(n):\n",
    "    if n < 0:\n",
    "        return \"Error: Factorial is not defined for negative numbers.\"\n",
    "    elif n == 0 or n == 1:\n",
    "        return 1\n",
    "    else:\n",
    "        result = 1\n",
    "        for i in range(2, n + 1):\n",
    "            result *= i\n",
    "        return result\n",
    "\n",
    "number = int(input(\"Enter a number: \"))\n",
    "print(f\"The factorial of {number} is: {number}\")\n"
   ]
  },
  {
   "cell_type": "code",
   "execution_count": 15,
   "id": "c063e2fb",
   "metadata": {},
   "outputs": [
    {
     "name": "stdout",
     "output_type": "stream",
     "text": [
      "The sum of the list is: 15\n"
     ]
    }
   ],
   "source": [
    "def sum_of_list(numbers):\n",
    "  total = 0\n",
    "  for num in numbers:\n",
    "    total += num\n",
    "  return total\n",
    "my_list = [1, 2, 3, 4, 5]\n",
    "result = sum_of_list(my_list)\n",
    "print(\"The sum of the list is:\", result)\n"
   ]
  },
  {
   "cell_type": "code",
   "execution_count": 16,
   "id": "382d0cae",
   "metadata": {},
   "outputs": [
    {
     "name": "stdout",
     "output_type": "stream",
     "text": [
      "The sum of the list is: 15\n"
     ]
    }
   ],
   "source": [
    "def sum_of_list(numbers):\n",
    "  total = sum(numbers)\n",
    "  return total\n",
    "my_list = [1, 2, 3, 4, 5]\n",
    "result = sum_of_list(my_list)\n",
    "print(\"The sum of the list is:\", result)\n"
   ]
  },
  {
   "cell_type": "code",
   "execution_count": 20,
   "id": "dd8e1cc7",
   "metadata": {},
   "outputs": [
    {
     "name": "stdout",
     "output_type": "stream",
     "text": [
      "[1]\n"
     ]
    }
   ],
   "source": [
    "def remove_duplicates(lst):\n",
    "    unique_list = []\n",
    "    for item in lst:\n",
    "        if item not in unique_list:\n",
    "            unique_list.append(item)\n",
    "            return unique_list\n",
    "my_list = [1, 2, 3, 2, 1, 4, 5, 4]\n",
    "unique_list = remove_duplicates(my_list)\n",
    "print(unique_list)\n",
    "\n",
    "\n"
   ]
  },
  {
   "cell_type": "code",
   "execution_count": 24,
   "id": "5f59789d",
   "metadata": {},
   "outputs": [
    {
     "name": "stdout",
     "output_type": "stream",
     "text": [
      "[1, 2, 3, 'MCA', 'university']\n"
     ]
    }
   ],
   "source": [
    "list1 = [1, 2, 3]\n",
    "list2 = [\"MCA\",\"university\"]\n",
    "list1.extend(list2)\n",
    "print(list1)  \n"
   ]
  },
  {
   "cell_type": "code",
   "execution_count": 23,
   "id": "a134ab31",
   "metadata": {},
   "outputs": [
    {
     "name": "stdout",
     "output_type": "stream",
     "text": [
      "None\n"
     ]
    }
   ],
   "source": [
    "list1 = [1, 2, 3]\n",
    "list2 = [4,5,6]\n",
    "result=list1.extend(list2)\n",
    "print(result)  \n"
   ]
  },
  {
   "cell_type": "code",
   "execution_count": 25,
   "id": "99701457",
   "metadata": {},
   "outputs": [
    {
     "name": "stdout",
     "output_type": "stream",
     "text": [
      "2\n",
      "4\n",
      "6\n",
      "8\n",
      "10\n"
     ]
    }
   ],
   "source": [
    "        def print_even_numbers(numbers):\n",
    "  for num in numbers:\n",
    "    if num % 2 == 0:\n",
    "      print(num)\n",
    "my_list = [1, 2, 3, 4, 5, 6, 7, 8, 9, 10]\n",
    "print_even_numbers(my_list)\n"
   ]
  },
  {
   "cell_type": "code",
   "execution_count": 26,
   "id": "26a54bb8",
   "metadata": {},
   "outputs": [
    {
     "name": "stdout",
     "output_type": "stream",
     "text": [
      "*\n",
      "**\n",
      "***\n",
      "****\n",
      "*****\n"
     ]
    }
   ],
   "source": [
    "rows = 5\n",
    "for i in range(1, rows+1):\n",
    "    for j in range(1, i+1):\n",
    "        print(\"*\", end=\"\")\n",
    "    print()\n"
   ]
  },
  {
   "cell_type": "code",
   "execution_count": 3,
   "id": "9933e3d2",
   "metadata": {},
   "outputs": [
    {
     "ename": "SyntaxError",
     "evalue": "invalid character '“' (U+201C) (3096686372.py, line 3)",
     "output_type": "error",
     "traceback": [
      "\u001b[1;36m  Cell \u001b[1;32mIn[3], line 3\u001b[1;36m\u001b[0m\n\u001b[1;33m    c = “Your result is:”\u001b[0m\n\u001b[1;37m        ^\u001b[0m\n\u001b[1;31mSyntaxError\u001b[0m\u001b[1;31m:\u001b[0m invalid character '“' (U+201C)\n"
     ]
    }
   ],
   "source": [
    "a = 10\n",
    "b = a*5\n",
    "c = “Your result is:”\n",
    "    print(c ,b)\n"
   ]
  },
  {
   "cell_type": "code",
   "execution_count": null,
   "id": "8c0cbf6b",
   "metadata": {},
   "outputs": [],
   "source": [
    "//looping"
   ]
  },
  {
   "cell_type": "code",
   "execution_count": 1,
   "id": "c97c553e",
   "metadata": {},
   "outputs": [
    {
     "name": "stdout",
     "output_type": "stream",
     "text": [
      "('hello',)\n",
      "(('hello',),)\n",
      "((('hello',),),)\n"
     ]
    }
   ],
   "source": [
    "tuple=('hello')\n",
    "n=3\n",
    "for i in range(int(n)):\n",
    "    tuple=(tuple),\n",
    "    print(tuple)"
   ]
  },
  {
   "cell_type": "code",
   "execution_count": 6,
   "id": "f971e4d0",
   "metadata": {},
   "outputs": [
    {
     "name": "stdout",
     "output_type": "stream",
     "text": [
      "5\n"
     ]
    }
   ],
   "source": [
    "tuple=('developer',5,8.9,'r',8)\n",
    "print(len(tuple))"
   ]
  },
  {
   "cell_type": "code",
   "execution_count": 2,
   "id": "c8052f3b",
   "metadata": {},
   "outputs": [
    {
     "name": "stdout",
     "output_type": "stream",
     "text": [
      "89\n"
     ]
    }
   ],
   "source": [
    "tuple=(9,5,89,4,8)\n",
    "print(max(tuple))"
   ]
  },
  {
   "cell_type": "code",
   "execution_count": 3,
   "id": "273b950b",
   "metadata": {},
   "outputs": [
    {
     "name": "stdout",
     "output_type": "stream",
     "text": [
      "4\n"
     ]
    }
   ],
   "source": [
    "tuple=(9,5,89,4,8)\n",
    "print(min(tuple))"
   ]
  },
  {
   "cell_type": "code",
   "execution_count": 4,
   "id": "de4aa56c",
   "metadata": {},
   "outputs": [
    {
     "name": "stdout",
     "output_type": "stream",
     "text": [
      "115\n"
     ]
    }
   ],
   "source": [
    "tuple=(9,5,89,4,8)\n",
    "print(sum(tuple))"
   ]
  },
  {
   "cell_type": "code",
   "execution_count": 5,
   "id": "a5112c2d",
   "metadata": {},
   "outputs": [
    {
     "name": "stdout",
     "output_type": "stream",
     "text": [
      "[4, 5, 8, 9, 89]\n"
     ]
    }
   ],
   "source": [
    "tuple=(9,5,89,4,8)\n",
    "print(sorted(tuple))"
   ]
  },
  {
   "cell_type": "code",
   "execution_count": 7,
   "id": "5d91d3b9",
   "metadata": {},
   "outputs": [
    {
     "name": "stdout",
     "output_type": "stream",
     "text": [
      "True\n"
     ]
    }
   ],
   "source": [
    "tuple=(9,5,89,4,8)\n",
    "print(any(tuple))"
   ]
  },
  {
   "cell_type": "code",
   "execution_count": 8,
   "id": "d3283b3c",
   "metadata": {},
   "outputs": [
    {
     "name": "stdout",
     "output_type": "stream",
     "text": [
      "True\n"
     ]
    }
   ],
   "source": [
    "tuple=(0,1)\n",
    "print(any(tuple))"
   ]
  },
  {
   "cell_type": "code",
   "execution_count": 9,
   "id": "408fe5e6",
   "metadata": {},
   "outputs": [
    {
     "name": "stdout",
     "output_type": "stream",
     "text": [
      "False\n"
     ]
    }
   ],
   "source": [
    "tuple=(0,)\n",
    "print(any(tuple))"
   ]
  },
  {
   "cell_type": "code",
   "execution_count": 10,
   "id": "94f4b868",
   "metadata": {},
   "outputs": [
    {
     "name": "stdout",
     "output_type": "stream",
     "text": [
      "False\n"
     ]
    }
   ],
   "source": [
    "tuple=()\n",
    "print(any(tuple))"
   ]
  },
  {
   "cell_type": "code",
   "execution_count": 11,
   "id": "59037ab8",
   "metadata": {},
   "outputs": [
    {
     "name": "stdout",
     "output_type": "stream",
     "text": [
      "True\n"
     ]
    }
   ],
   "source": [
    "tuple=(4,1)\n",
    "print(all(tuple))"
   ]
  },
  {
   "cell_type": "code",
   "execution_count": 13,
   "id": "e7e059cc",
   "metadata": {},
   "outputs": [
    {
     "name": "stdout",
     "output_type": "stream",
     "text": [
      "False\n"
     ]
    }
   ],
   "source": [
    "tuple=(0,5,7)\n",
    "print(all(tuple))"
   ]
  },
  {
   "cell_type": "code",
   "execution_count": 14,
   "id": "565c85b8",
   "metadata": {},
   "outputs": [
    {
     "name": "stdout",
     "output_type": "stream",
     "text": [
      "True\n"
     ]
    }
   ],
   "source": [
    "tuple=()\n",
    "print(all(tuple))"
   ]
  },
  {
   "cell_type": "code",
   "execution_count": null,
   "id": "96ac2a0a",
   "metadata": {},
   "outputs": [],
   "source": [
    "//predict the output"
   ]
  },
  {
   "cell_type": "code",
   "execution_count": 15,
   "id": "38945a19",
   "metadata": {},
   "outputs": [
    {
     "name": "stdout",
     "output_type": "stream",
     "text": [
      "apple\n",
      "byte\n",
      "computer\n"
     ]
    }
   ],
   "source": [
    "tuple=(\"apple\",\"byte\",\"computer\")\n",
    "for i in tuple:\n",
    "    print(i)"
   ]
  },
  {
   "cell_type": "code",
   "execution_count": 16,
   "id": "a470bf7e",
   "metadata": {},
   "outputs": [
    {
     "name": "stdout",
     "output_type": "stream",
     "text": [
      "apple\n",
      "byte\n"
     ]
    }
   ],
   "source": [
    "tuple=(\"apple\",\"byte\",\"computer\")\n",
    "n=2\n",
    "for i in range(n):\n",
    "    print(tuple[i])"
   ]
  },
  {
   "cell_type": "code",
   "execution_count": 17,
   "id": "b5123d2b",
   "metadata": {},
   "outputs": [
    {
     "name": "stdout",
     "output_type": "stream",
     "text": [
      "apple\n"
     ]
    }
   ],
   "source": [
    "tuple=(\"apple\",\"byte\",\"computer\")\n",
    "n=2\n",
    "for i in range(n):\n",
    "    print(tuple[i])\n",
    "    break"
   ]
  },
  {
   "cell_type": "code",
   "execution_count": 19,
   "id": "fccb3d29",
   "metadata": {},
   "outputs": [
    {
     "name": "stdout",
     "output_type": "stream",
     "text": [
      "['apple', 'byte', 'computer']\n"
     ]
    }
   ],
   "source": [
    "tuple=(\"apple\",\"byte\",\"computer\")\n",
    "print(list(tuple))"
   ]
  },
  {
   "cell_type": "code",
   "execution_count": 23,
   "id": "a764f7ec",
   "metadata": {},
   "outputs": [
    {
     "name": "stdout",
     "output_type": "stream",
     "text": [
      "2\n",
      "1\n",
      "0\n"
     ]
    }
   ],
   "source": [
    "tuple=(3,7,'p','y','z',9.5,'y')\n",
    "print(tuple.count('y'))\n",
    "print(tuple.count(7))\n",
    "print(tuple.count(9))"
   ]
  },
  {
   "cell_type": "code",
   "execution_count": 25,
   "id": "8705eab9",
   "metadata": {},
   "outputs": [
    {
     "name": "stdout",
     "output_type": "stream",
     "text": [
      "3\n",
      "1\n"
     ]
    }
   ],
   "source": [
    "tuple=(3,7,'p','y','z',9.5,'y')\n",
    "print(tuple.index('y'))\n",
    "print(tuple.index(7))\n"
   ]
  },
  {
   "cell_type": "code",
   "execution_count": 15,
   "id": "32036efc",
   "metadata": {},
   "outputs": [
    {
     "ename": "SyntaxError",
     "evalue": "invalid syntax (2584992488.py, line 5)",
     "output_type": "error",
     "traceback": [
      "\u001b[1;36m  Cell \u001b[1;32mIn[15], line 5\u001b[1;36m\u001b[0m\n\u001b[1;33m    else:\u001b[0m\n\u001b[1;37m    ^\u001b[0m\n\u001b[1;31mSyntaxError\u001b[0m\u001b[1;31m:\u001b[0m invalid syntax\n"
     ]
    }
   ],
   "source": [
    "a=4\n",
    "b=10\n",
    "ifa>=b\n",
    "print(\"a,should be less than or equal to b the number to print\")\n",
    "else:\n",
    "    current=a\n",
    "    while current<=b\n",
    "    return current\n",
    "current+=1\n",
    "num=input(\"Enter a number\")\n",
    "print(\"the number between u and 10 is\"num)"
   ]
  },
  {
   "cell_type": "code",
   "execution_count": 14,
   "id": "35a97037",
   "metadata": {},
   "outputs": [],
   "source": [
    "def sum_of_range(start,end):\n",
    "    sum=0\n",
    "    for i in range(start,end+1):\n",
    "        sum+=1\n",
    "        return sum\n",
    "    result=sum_of_range(5-10)\n",
    "    print(\"the sum_of_range is\",result)"
   ]
  },
  {
   "cell_type": "code",
   "execution_count": null,
   "id": "3d226801",
   "metadata": {},
   "outputs": [],
   "source": []
  },
  {
   "cell_type": "code",
   "execution_count": 17,
   "id": "6f8d2c59",
   "metadata": {},
   "outputs": [
    {
     "ename": "SyntaxError",
     "evalue": "invalid syntax (3147093668.py, line 3)",
     "output_type": "error",
     "traceback": [
      "\u001b[1;36m  Cell \u001b[1;32mIn[17], line 3\u001b[1;36m\u001b[0m\n\u001b[1;33m    ifa>=b:\u001b[0m\n\u001b[1;37m          ^\u001b[0m\n\u001b[1;31mSyntaxError\u001b[0m\u001b[1;31m:\u001b[0m invalid syntax\n"
     ]
    }
   ],
   "source": [
    "a=4\n",
    "b=10\n",
    "ifa>=b:\n",
    "    print(\"a,should be less than or equal to b the number to print\")\n",
    "    else:\n",
    "        current=a\n",
    "        while current<=b\n",
    "        return current\n",
    "    current+=1\n",
    "    num=input(\"Enter a number\")\n",
    "    print(\"the number between u and 10 is\"num)"
   ]
  },
  {
   "cell_type": "code",
   "execution_count": 22,
   "id": "0554d3f6",
   "metadata": {},
   "outputs": [
    {
     "name": "stdout",
     "output_type": "stream",
     "text": [
      "4\n",
      "5\n",
      "6\n",
      "7\n",
      "8\n",
      "9\n",
      "10\n"
     ]
    }
   ],
   "source": [
    "a = 4\n",
    "b = 10\n",
    "if a >= b:\n",
    "    print(\"a should be less than or equal to b to print the numbers.\")\n",
    "else:\n",
    "    current = a\n",
    "    while current <= b:\n",
    "        print(current)\n",
    "        current += 1\n",
    "\n",
    "#num=input(\"Enter a number\")\n"
   ]
  },
  {
   "cell_type": "code",
   "execution_count": null,
   "id": "2d0e9054",
   "metadata": {},
   "outputs": [],
   "source": [
    "write a program to print the given pattern"
   ]
  },
  {
   "cell_type": "code",
   "execution_count": 21,
   "id": "4cf9e176",
   "metadata": {},
   "outputs": [
    {
     "name": "stdout",
     "output_type": "stream",
     "text": [
      "****\n",
      "****\n",
      "****\n",
      "****\n"
     ]
    }
   ],
   "source": [
    "row = 4*4\n",
    "for i in range(1, rows+1):\n",
    "        print(\"****\")\n",
    "        \n"
   ]
  },
  {
   "cell_type": "code",
   "execution_count": 24,
   "id": "9e153a83",
   "metadata": {},
   "outputs": [
    {
     "name": "stdout",
     "output_type": "stream",
     "text": [
      "        * \n",
      "      * * \n",
      "    * * * \n",
      "  * * * * \n",
      "* * * * * \n"
     ]
    }
   ],
   "source": [
    "for i in range(1, 6):\n",
    "    for j in range(5 - i): \n",
    "        print(\" \", end=\" \")\n",
    "    for k in range(i):   \n",
    "        print(\"*\", end=\" \")\n",
    "    print()\n",
    "    \n"
   ]
  },
  {
   "cell_type": "code",
   "execution_count": 32,
   "id": "64c42828",
   "metadata": {},
   "outputs": [
    {
     "name": "stdout",
     "output_type": "stream",
     "text": [
      "*\n",
      "***\n",
      "*****\n",
      "*******\n"
     ]
    }
   ],
   "source": [
    "row = 6\n",
    "for i in range(1, rows+1):\n",
    "        print(''*(row-i)+'*'*(2*i-1))\n",
    "        "
   ]
  },
  {
   "cell_type": "code",
   "execution_count": 33,
   "id": "f14fb44b",
   "metadata": {},
   "outputs": [
    {
     "name": "stdout",
     "output_type": "stream",
     "text": [
      "    *\n",
      "   ***\n",
      "  *****\n",
      " *******\n",
      "*********\n",
      " *******\n",
      "  *****\n",
      "   ***\n",
      "    *\n"
     ]
    }
   ],
   "source": [
    "rows = 5\n",
    "for i in range(1, rows + 1):\n",
    "    print(' ' * (rows - i) + '*' * (2 * i - 1))\n",
    "for i in range(rows - 1, 0, -1):\n",
    "    print(' ' * (rows - i) + '*' * (2 * i - 1))"
   ]
  },
  {
   "cell_type": "code",
   "execution_count": 6,
   "id": "02400185",
   "metadata": {},
   "outputs": [
    {
     "name": "stdout",
     "output_type": "stream",
     "text": [
      "****\n",
      "*  *\n",
      "*  *\n",
      "****\n"
     ]
    }
   ],
   "source": [
    "n = 4\n",
    "for i in range(n):\n",
    "    for j in range(n):\n",
    "        if i == 0 or i == n - 1 or j == 0 or j == n - 1:\n",
    "            print(\"*\", end=\"\")\n",
    "        else:\n",
    "            print(\" \", end=\"\")\n",
    "    print()"
   ]
  },
  {
   "cell_type": "code",
   "execution_count": null,
   "id": "49b516e5",
   "metadata": {},
   "outputs": [],
   "source": []
  }
 ],
 "metadata": {
  "kernelspec": {
   "display_name": "Python 3 (ipykernel)",
   "language": "python",
   "name": "python3"
  },
  "language_info": {
   "codemirror_mode": {
    "name": "ipython",
    "version": 3
   },
   "file_extension": ".py",
   "mimetype": "text/x-python",
   "name": "python",
   "nbconvert_exporter": "python",
   "pygments_lexer": "ipython3",
   "version": "3.11.4"
  }
 },
 "nbformat": 4,
 "nbformat_minor": 5
}
