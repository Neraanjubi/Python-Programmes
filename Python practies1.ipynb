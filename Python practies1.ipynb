{
 "cells": [
  {
   "cell_type": "code",
   "execution_count": 1,
   "id": "94775b16",
   "metadata": {},
   "outputs": [],
   "source": [
    "a=[10,20,30,40]"
   ]
  },
  {
   "cell_type": "code",
   "execution_count": null,
   "id": "d24c0b29",
   "metadata": {},
   "outputs": [],
   "source": [
    "//what is the way to print all the elements in the list?"
   ]
  },
  {
   "cell_type": "code",
   "execution_count": 4,
   "id": "aa01dd62",
   "metadata": {},
   "outputs": [
    {
     "name": "stdout",
     "output_type": "stream",
     "text": [
      "10 20 30 40 "
     ]
    }
   ],
   "source": [
    "for i in a:\n",
    "    print(i,end=\" \")"
   ]
  },
  {
   "cell_type": "code",
   "execution_count": 5,
   "id": "fdb95f5d",
   "metadata": {},
   "outputs": [
    {
     "name": "stdout",
     "output_type": "stream",
     "text": [
      "10\n",
      "20\n",
      "30\n",
      "40\n"
     ]
    }
   ],
   "source": [
    "a = [10, 20, 30, 40]\n",
    "i = 0\n",
    "\n",
    "while i < len(a):\n",
    "    print(a[i])\n",
    "    i += 1\n"
   ]
  },
  {
   "cell_type": "code",
   "execution_count": null,
   "id": "4150df74",
   "metadata": {},
   "outputs": [],
   "source": [
    "//how to check wheather the element is present in the list or not?"
   ]
  },
  {
   "cell_type": "code",
   "execution_count": null,
   "id": "82b073b8",
   "metadata": {},
   "outputs": [],
   "source": [
    "//ex: need to check whether element 30 is present in the above list or not"
   ]
  },
  {
   "cell_type": "code",
   "execution_count": 10,
   "id": "ba3d4ca6",
   "metadata": {},
   "outputs": [
    {
     "name": "stdout",
     "output_type": "stream",
     "text": [
      "Value found\n"
     ]
    }
   ],
   "source": [
    "for i in a:\n",
    "    if i==30:\n",
    "        print(\"Value found\")\n",
    "        break\n",
    "else:\n",
    "        print(\"value not found\")\n",
    "            "
   ]
  },
  {
   "cell_type": "code",
   "execution_count": null,
   "id": "265958a7",
   "metadata": {},
   "outputs": [],
   "source": [
    "//by using membership optr in and not in"
   ]
  },
  {
   "cell_type": "code",
   "execution_count": 14,
   "id": "4aac6912",
   "metadata": {},
   "outputs": [
    {
     "name": "stdout",
     "output_type": "stream",
     "text": [
      "30 is present in the list.\n"
     ]
    }
   ],
   "source": [
    "\n",
    "a = [10, 20, 30, 40]\n",
    "\n",
    "if 30 in a:\n",
    "    print(\"30 is present in the list.\")\n",
    "else:\n",
    "    print(\"30 is not present in the list.\")\n"
   ]
  },
  {
   "cell_type": "code",
   "execution_count": 12,
   "id": "6a3e4a29",
   "metadata": {},
   "outputs": [
    {
     "name": "stdout",
     "output_type": "stream",
     "text": [
      "50 is not present in the list.\n"
     ]
    }
   ],
   "source": [
    "a = [10, 20, 30, 40]\n",
    "\n",
    "if 50 not in a:\n",
    "    print(\"50 is not present in the list.\")\n",
    "else:\n",
    "    print(\"50 is present in the list.\")\n"
   ]
  },
  {
   "cell_type": "code",
   "execution_count": 15,
   "id": "e86b8658",
   "metadata": {},
   "outputs": [
    {
     "data": {
      "text/plain": [
       "True"
      ]
     },
     "execution_count": 15,
     "metadata": {},
     "output_type": "execute_result"
    }
   ],
   "source": [
    "30 in a"
   ]
  },
  {
   "cell_type": "code",
   "execution_count": null,
   "id": "366217bf",
   "metadata": {},
   "outputs": [],
   "source": [
    "write a python code to find the index value of a number 30 in the list a(a=[10,20,30,40]) //print(a[i])..>30//print(i)...>index value"
   ]
  },
  {
   "cell_type": "code",
   "execution_count": 16,
   "id": "964f0abd",
   "metadata": {},
   "outputs": [
    {
     "name": "stdout",
     "output_type": "stream",
     "text": [
      "2\n"
     ]
    }
   ],
   "source": [
    "for i in range(len(a)):\n",
    "    if a[i]==30:\n",
    "        print(i)\n",
    "        break"
   ]
  },
  {
   "cell_type": "code",
   "execution_count": null,
   "id": "9bf9c134",
   "metadata": {},
   "outputs": [],
   "source": [
    "//Is it possible without the loop?"
   ]
  },
  {
   "cell_type": "code",
   "execution_count": null,
   "id": "55cad8f5",
   "metadata": {},
   "outputs": [],
   "source": [
    "//we can make use of indexing"
   ]
  },
  {
   "cell_type": "code",
   "execution_count": null,
   "id": "c160e0f3",
   "metadata": {},
   "outputs": [],
   "source": [
    "//lets assum tht\n",
    "item=[10,20,30,40,50,60,70,80]\n",
    "what will be the index value of 80?"
   ]
  },
  {
   "cell_type": "code",
   "execution_count": 19,
   "id": "9afc076d",
   "metadata": {},
   "outputs": [
    {
     "name": "stdout",
     "output_type": "stream",
     "text": [
      "7\n"
     ]
    }
   ],
   "source": [
    "items=[10,20,30,40,50,60,70,80]\n",
    "print(items.index(80))"
   ]
  },
  {
   "cell_type": "code",
   "execution_count": 20,
   "id": "a16f036a",
   "metadata": {},
   "outputs": [
    {
     "data": {
      "text/plain": [
       "18"
      ]
     },
     "execution_count": 20,
     "metadata": {},
     "output_type": "execute_result"
    }
   ],
   "source": [
    "a=[10,20,30,40,50,60,70,80,90,11,22,33,44,55,66,77,88,99]\n",
    "len(a)"
   ]
  },
  {
   "cell_type": "code",
   "execution_count": null,
   "id": "da10f686",
   "metadata": {},
   "outputs": [],
   "source": []
  },
  {
   "cell_type": "code",
   "execution_count": 21,
   "id": "04091923",
   "metadata": {},
   "outputs": [
    {
     "data": {
      "text/plain": [
       "99"
      ]
     },
     "execution_count": 21,
     "metadata": {},
     "output_type": "execute_result"
    }
   ],
   "source": [
    "a[len(a)-1]"
   ]
  },
  {
   "cell_type": "code",
   "execution_count": null,
   "id": "71d3955e",
   "metadata": {},
   "outputs": [],
   "source": [
    "//REVERS INDEX"
   ]
  },
  {
   "cell_type": "code",
   "execution_count": 22,
   "id": "a5fc8c7c",
   "metadata": {},
   "outputs": [
    {
     "data": {
      "text/plain": [
       "66"
      ]
     },
     "execution_count": 22,
     "metadata": {},
     "output_type": "execute_result"
    }
   ],
   "source": [
    "a=[10,20,30,40,50,60,70,80,90,11,22,33,44,55,66,77,88,99]\n",
    "a[-4]"
   ]
  },
  {
   "cell_type": "code",
   "execution_count": 23,
   "id": "f0777b36",
   "metadata": {},
   "outputs": [
    {
     "data": {
      "text/plain": [
       "70"
      ]
     },
     "execution_count": 23,
     "metadata": {},
     "output_type": "execute_result"
    }
   ],
   "source": [
    "a[-12]"
   ]
  },
  {
   "cell_type": "code",
   "execution_count": 25,
   "id": "621256b9",
   "metadata": {},
   "outputs": [
    {
     "data": {
      "text/plain": [
       "1"
      ]
     },
     "execution_count": 25,
     "metadata": {},
     "output_type": "execute_result"
    }
   ],
   "source": [
    "list_1=[1,2,12,6,10,67,12,33,44,66,88,99,85,44,55,66,88,112,33]\n",
    "list_1[-19]"
   ]
  },
  {
   "cell_type": "code",
   "execution_count": 26,
   "id": "fce9d282",
   "metadata": {},
   "outputs": [
    {
     "data": {
      "text/plain": [
       "1"
      ]
     },
     "execution_count": 26,
     "metadata": {},
     "output_type": "execute_result"
    }
   ],
   "source": [
    "list_1[-len(list_1)]"
   ]
  },
  {
   "cell_type": "code",
   "execution_count": 27,
   "id": "685fe050",
   "metadata": {},
   "outputs": [
    {
     "name": "stdout",
     "output_type": "stream",
     "text": [
      "[1, 'ABC', 89.9, 'a']\n"
     ]
    }
   ],
   "source": [
    "information=[1,\"ABC\",89.9,'a']\n",
    "print(information)"
   ]
  },
  {
   "cell_type": "code",
   "execution_count": null,
   "id": "2c4bb1b8",
   "metadata": {},
   "outputs": [],
   "source": [
    "//how to get a particular element in the list?"
   ]
  },
  {
   "cell_type": "code",
   "execution_count": 28,
   "id": "a03994ff",
   "metadata": {},
   "outputs": [
    {
     "data": {
      "text/plain": [
       "'ABC'"
      ]
     },
     "execution_count": 28,
     "metadata": {},
     "output_type": "execute_result"
    }
   ],
   "source": [
    "information[1]"
   ]
  },
  {
   "cell_type": "code",
   "execution_count": 30,
   "id": "1de3d36a",
   "metadata": {},
   "outputs": [
    {
     "name": "stdout",
     "output_type": "stream",
     "text": [
      "[1, 'ABC', 89.9, 'a', 'nethu']\n"
     ]
    }
   ],
   "source": [
    "information=[1,\"ABC\",89.9,'a']\n",
    "information.append(\"nethu\")\n",
    "print(information)"
   ]
  },
  {
   "cell_type": "code",
   "execution_count": 31,
   "id": "0ae284c9",
   "metadata": {},
   "outputs": [
    {
     "name": "stdout",
     "output_type": "stream",
     "text": [
      "[1, 'ABC', 89.9, 'a', 'n', 'e', 't', 'h', 'u']\n"
     ]
    }
   ],
   "source": [
    "information=[1,\"ABC\",89.9,'a']\n",
    "information+=(\"nethu\")\n",
    "print(information)"
   ]
  },
  {
   "cell_type": "code",
   "execution_count": 33,
   "id": "c4303191",
   "metadata": {},
   "outputs": [
    {
     "name": "stdout",
     "output_type": "stream",
     "text": [
      "[1, 'ABC', 89.9, 'a', 1, 'ABC', 89.9, 'a']\n"
     ]
    }
   ],
   "source": [
    "information=[1,\"ABC\",89.9,'a']\n",
    "information*=2\n",
    "print(information)"
   ]
  },
  {
   "cell_type": "code",
   "execution_count": 34,
   "id": "7223f39d",
   "metadata": {},
   "outputs": [
    {
     "data": {
      "text/plain": [
       "[1, 'ABC', 89.9, 'a', 1, 'ABC', 89.9, 'a']"
      ]
     },
     "execution_count": 34,
     "metadata": {},
     "output_type": "execute_result"
    }
   ],
   "source": [
    "information"
   ]
  },
  {
   "cell_type": "code",
   "execution_count": null,
   "id": "aad09cf9",
   "metadata": {},
   "outputs": [],
   "source": [
    "//mutabl=change"
   ]
  },
  {
   "cell_type": "code",
   "execution_count": 35,
   "id": "c2b574d0",
   "metadata": {},
   "outputs": [],
   "source": [
    "information[1]=\"xyz\""
   ]
  },
  {
   "cell_type": "code",
   "execution_count": 36,
   "id": "fce0854a",
   "metadata": {},
   "outputs": [
    {
     "data": {
      "text/plain": [
       "[1, 'xyz', 89.9, 'a', 1, 'ABC', 89.9, 'a']"
      ]
     },
     "execution_count": 36,
     "metadata": {},
     "output_type": "execute_result"
    }
   ],
   "source": [
    "information"
   ]
  },
  {
   "cell_type": "code",
   "execution_count": null,
   "id": "bfce00cc",
   "metadata": {},
   "outputs": [],
   "source": [
    "//SLICING OPRTR"
   ]
  },
  {
   "cell_type": "code",
   "execution_count": null,
   "id": "337a1ebe",
   "metadata": {},
   "outputs": [],
   "source": [
    "//how to access the first three elements?"
   ]
  },
  {
   "cell_type": "code",
   "execution_count": 37,
   "id": "b573553b",
   "metadata": {},
   "outputs": [
    {
     "data": {
      "text/plain": [
       "[1, 'xyz', 89.9]"
      ]
     },
     "execution_count": 37,
     "metadata": {},
     "output_type": "execute_result"
    }
   ],
   "source": [
    "information[0:3]"
   ]
  },
  {
   "cell_type": "code",
   "execution_count": 38,
   "id": "a7a2ad8d",
   "metadata": {},
   "outputs": [
    {
     "data": {
      "text/plain": [
       "[]"
      ]
     },
     "execution_count": 38,
     "metadata": {},
     "output_type": "execute_result"
    }
   ],
   "source": [
    "information[:0]"
   ]
  },
  {
   "cell_type": "code",
   "execution_count": 39,
   "id": "3e02b4bc",
   "metadata": {},
   "outputs": [
    {
     "data": {
      "text/plain": [
       "[1]"
      ]
     },
     "execution_count": 39,
     "metadata": {},
     "output_type": "execute_result"
    }
   ],
   "source": [
    "information[:1]"
   ]
  },
  {
   "cell_type": "code",
   "execution_count": 40,
   "id": "435fcbf9",
   "metadata": {},
   "outputs": [
    {
     "data": {
      "text/plain": [
       "[1, 'xyz']"
      ]
     },
     "execution_count": 40,
     "metadata": {},
     "output_type": "execute_result"
    }
   ],
   "source": [
    "information[:2]"
   ]
  },
  {
   "cell_type": "code",
   "execution_count": 41,
   "id": "574c7d0a",
   "metadata": {},
   "outputs": [
    {
     "data": {
      "text/plain": [
       "[1, 'xyz', 89.9]"
      ]
     },
     "execution_count": 41,
     "metadata": {},
     "output_type": "execute_result"
    }
   ],
   "source": [
    "information[:3]"
   ]
  },
  {
   "cell_type": "code",
   "execution_count": 42,
   "id": "f19430b6",
   "metadata": {},
   "outputs": [
    {
     "data": {
      "text/plain": [
       "['xyz', 89.9, 'a', 1, 'ABC', 89.9, 'a']"
      ]
     },
     "execution_count": 42,
     "metadata": {},
     "output_type": "execute_result"
    }
   ],
   "source": [
    "information[1:]"
   ]
  },
  {
   "cell_type": "code",
   "execution_count": 43,
   "id": "a332be1e",
   "metadata": {},
   "outputs": [
    {
     "data": {
      "text/plain": [
       "[1, 1]"
      ]
     },
     "execution_count": 43,
     "metadata": {},
     "output_type": "execute_result"
    }
   ],
   "source": [
    "information[::4]"
   ]
  },
  {
   "cell_type": "code",
   "execution_count": 49,
   "id": "0d1f1e21",
   "metadata": {},
   "outputs": [
    {
     "data": {
      "text/plain": [
       "['xyz', 'a', 'ABC']"
      ]
     },
     "execution_count": 49,
     "metadata": {},
     "output_type": "execute_result"
    }
   ],
   "source": [
    "information[1:6:2]"
   ]
  },
  {
   "cell_type": "code",
   "execution_count": 45,
   "id": "f3e078fe",
   "metadata": {},
   "outputs": [
    {
     "data": {
      "text/plain": [
       "[1, 'a', 89.9]"
      ]
     },
     "execution_count": 45,
     "metadata": {},
     "output_type": "execute_result"
    }
   ],
   "source": [
    "information[::3]"
   ]
  },
  {
   "cell_type": "code",
   "execution_count": 46,
   "id": "f85bf72a",
   "metadata": {},
   "outputs": [
    {
     "data": {
      "text/plain": [
       "['a', 89.9, 'ABC', 1, 'a', 89.9, 'xyz', 1]"
      ]
     },
     "execution_count": 46,
     "metadata": {},
     "output_type": "execute_result"
    }
   ],
   "source": [
    "information[::-1]//-1 reversing indx"
   ]
  },
  {
   "cell_type": "code",
   "execution_count": null,
   "id": "e72931f4",
   "metadata": {},
   "outputs": [],
   "source": [
    "//student_list"
   ]
  },
  {
   "cell_type": "code",
   "execution_count": 52,
   "id": "130b5518",
   "metadata": {},
   "outputs": [
    {
     "data": {
      "text/plain": [
       "['9876543210', 'India', 'Female', 8.58, 'STU', 2]"
      ]
     },
     "execution_count": 52,
     "metadata": {},
     "output_type": "execute_result"
    }
   ],
   "source": [
    "student_2=[2,\"STU\",8.58,\"Female\",\"India\",\"9876543210\"]\n",
    "student_2[::-1]"
   ]
  },
  {
   "cell_type": "code",
   "execution_count": 53,
   "id": "2bf62286",
   "metadata": {},
   "outputs": [
    {
     "data": {
      "text/plain": [
       "['9876543210', 8.58]"
      ]
     },
     "execution_count": 53,
     "metadata": {},
     "output_type": "execute_result"
    }
   ],
   "source": [
    "student_2=[2,\"STU\",8.58,\"Female\",\"India\",\"9876543210\"]\n",
    "student_2[::-3]"
   ]
  },
  {
   "cell_type": "code",
   "execution_count": 54,
   "id": "1e8db270",
   "metadata": {},
   "outputs": [
    {
     "data": {
      "text/plain": [
       "[2, 8.58, 'India']"
      ]
     },
     "execution_count": 54,
     "metadata": {},
     "output_type": "execute_result"
    }
   ],
   "source": [
    "student_2=[2,\"STU\",8.58,\"Female\",\"India\",\"9876543210\"]\n",
    "student_2[::2]"
   ]
  },
  {
   "cell_type": "code",
   "execution_count": null,
   "id": "c8587cc0",
   "metadata": {},
   "outputs": [],
   "source": [
    "//write a python program to create a list of 100 elemt,where all the  entries are sme num,and the numbr is given by the user"
   ]
  },
  {
   "cell_type": "code",
   "execution_count": 1,
   "id": "031df90d",
   "metadata": {},
   "outputs": [
    {
     "name": "stdout",
     "output_type": "stream",
     "text": [
      "Enter the number: 5\n",
      "[5, 5, 5, 5, 5, 5, 5, 5, 5, 5, 5, 5, 5, 5, 5, 5, 5, 5, 5, 5, 5, 5, 5, 5, 5, 5, 5, 5, 5, 5, 5, 5, 5, 5, 5, 5, 5, 5, 5, 5, 5, 5, 5, 5, 5, 5, 5, 5, 5, 5, 5, 5, 5, 5, 5, 5, 5, 5, 5, 5, 5, 5, 5, 5, 5, 5, 5, 5, 5, 5, 5, 5, 5, 5, 5, 5, 5, 5, 5, 5, 5, 5, 5, 5, 5, 5, 5, 5, 5, 5, 5, 5, 5, 5, 5, 5, 5, 5, 5, 5]\n"
     ]
    }
   ],
   "source": [
    "num = int(input(\"Enter the number: \"))\n",
    "result_list = [num] * 100\n",
    "print(result_list)"
   ]
  },
  {
   "cell_type": "code",
   "execution_count": null,
   "id": "5ea3d092",
   "metadata": {},
   "outputs": [],
   "source": [
    "//Write a python code to create a list of first 10 odd elements without using decision making statements"
   ]
  },
  {
   "cell_type": "code",
   "execution_count": 5,
   "id": "ac39e027",
   "metadata": {},
   "outputs": [
    {
     "name": "stdout",
     "output_type": "stream",
     "text": [
      "[1, 3, 5, 7, 9, 11, 13, 15, 17, 19]\n"
     ]
    }
   ],
   "source": [
    "odd_numbers = list(range(1, 20, 2))\n",
    "print(odd_numbers)\n"
   ]
  },
  {
   "cell_type": "code",
   "execution_count": null,
   "id": "50708225",
   "metadata": {},
   "outputs": [],
   "source": []
  },
  {
   "cell_type": "code",
   "execution_count": null,
   "id": "7ec43d46",
   "metadata": {},
   "outputs": [],
   "source": [
    "//Write a python code to create a list of 1 to 10 odd elements and from the list created,create another list with only odd values"
   ]
  },
  {
   "cell_type": "code",
   "execution_count": 3,
   "id": "c6d71670",
   "metadata": {},
   "outputs": [
    {
     "name": "stdout",
     "output_type": "stream",
     "text": [
      "List of numbers from 1 to 10: [1, 2, 3, 4, 5, 6, 7, 8, 9, 10]\n",
      "List of odd numbers: [1, 3, 5, 7, 9]\n"
     ]
    }
   ],
   "source": [
    "numbers = list(range(1, 11))\n",
    "odd_numbers = [num for num in numbers if num % 2 != 0]\n",
    "print(\"List of numbers from 1 to 10:\", numbers)\n",
    "print(\"List of odd numbers:\", odd_numbers)\n"
   ]
  },
  {
   "cell_type": "code",
   "execution_count": 6,
   "id": "ec315dd4",
   "metadata": {},
   "outputs": [
    {
     "name": "stdout",
     "output_type": "stream",
     "text": [
      "[1, 2, 3, 4, 5, 6, 7, 8, 9, 10]\n",
      "[1, 3, 5, 7, 9]\n"
     ]
    }
   ],
   "source": [
    "or//\n",
    "list1=list(range(1,11))\n",
    "odd = list1[::2]\n",
    "print(list1)\n",
    "print(odd)"
   ]
  },
  {
   "cell_type": "code",
   "execution_count": null,
   "id": "4cf66f31",
   "metadata": {},
   "outputs": [],
   "source": [
    "//Write a python code to create a list of 1 to 10 odd elements and from the list created,create another list with only even values"
   ]
  },
  {
   "cell_type": "code",
   "execution_count": 4,
   "id": "e80dec30",
   "metadata": {},
   "outputs": [
    {
     "name": "stdout",
     "output_type": "stream",
     "text": [
      "List of numbers from 1 to 10: [1, 2, 3, 4, 5, 6, 7, 8, 9, 10]\n",
      "List of odd numbers: [1, 3, 5, 7, 9]\n"
     ]
    }
   ],
   "source": [
    "numbers = list(range(1, 11))\n",
    "even_numbers = [num for num in numbers if num % 2 != 0]\n",
    "print(\"List of numbers from 1 to 10:\", numbers)\n",
    "print(\"List of odd numbers:\", even_numbers)\n"
   ]
  },
  {
   "cell_type": "code",
   "execution_count": 7,
   "id": "5d06e3fe",
   "metadata": {},
   "outputs": [
    {
     "name": "stdout",
     "output_type": "stream",
     "text": [
      "[1, 2, 3, 4, 5, 6, 7, 8, 9, 10]\n",
      "[2, 4, 6, 8, 10]\n"
     ]
    }
   ],
   "source": [
    "or//\n",
    "list1=list(range(1,11))\n",
    "even = list1[1::2]\n",
    "print(list1)\n",
    "print(even)"
   ]
  },
  {
   "cell_type": "code",
   "execution_count": null,
   "id": "eae46ef5",
   "metadata": {},
   "outputs": [],
   "source": [
    "//CONCATENATIONS"
   ]
  },
  {
   "cell_type": "code",
   "execution_count": 13,
   "id": "ede39e03",
   "metadata": {},
   "outputs": [
    {
     "name": "stdout",
     "output_type": "stream",
     "text": [
      "['a', 'b', 'c', 'd']\n",
      "['python', 'list']\n"
     ]
    }
   ],
   "source": [
    "list_1=['a','b','c','d']\n",
    "print(list_1)\n",
    "list_2=['python','list']\n",
    "print(list_2)"
   ]
  },
  {
   "cell_type": "code",
   "execution_count": null,
   "id": "f4219bb7",
   "metadata": {},
   "outputs": [],
   "source": [
    "////write a python code to create a list, which extracts elements from the string given by the user"
   ]
  },
  {
   "cell_type": "code",
   "execution_count": 12,
   "id": "b6415019",
   "metadata": {},
   "outputs": [
    {
     "name": "stdout",
     "output_type": "stream",
     "text": [
      "Enter a string: anu\n",
      "['a', 'n', 'u']\n"
     ]
    }
   ],
   "source": [
    "string = input(\"Enter a string: \")\n",
    "list_1 = list(string)\n",
    "print(list_1)\n"
   ]
  },
  {
   "cell_type": "code",
   "execution_count": null,
   "id": "9297f651",
   "metadata": {},
   "outputs": [],
   "source": [
    "//appending and extending ellmnt//"
   ]
  },
  {
   "cell_type": "raw",
   "id": "ddb2af9f",
   "metadata": {},
   "source": [
    "//write a python program to get the input from the user for creating two lists and add the elements of one list into the other."
   ]
  },
  {
   "cell_type": "code",
   "execution_count": 14,
   "id": "33a07375",
   "metadata": {},
   "outputs": [
    {
     "name": "stdout",
     "output_type": "stream",
     "text": [
      "Enter the elements of the first list (space-separated): 2\n",
      "Enter the elements of the second list (space-separated): 4\n",
      "Combined list: [2, 4]\n"
     ]
    }
   ],
   "source": [
    "def create_list(prompt):\n",
    "    user_input = input(prompt).split()\n",
    "    return [int(x) for x in user_input]\n",
    "list1 = create_list(\"Enter the elements of the first list (space-separated): \")\n",
    "list2 = create_list(\"Enter the elements of the second list (space-separated): \")\n",
    "combined_list = list1 + list2\n",
    "print(\"Combined list:\", combined_list)\n"
   ]
  },
  {
   "cell_type": "code",
   "execution_count": null,
   "id": "ae7fe751",
   "metadata": {},
   "outputs": [],
   "source": [
    "Assignment:\n",
    "    Explain: map(int,input().split()) with suitable example.//tusdy//pic//blubook//"
   ]
  },
  {
   "cell_type": "code",
   "execution_count": null,
   "id": "9774051d",
   "metadata": {},
   "outputs": [],
   "source": [
    "The method map(int, input().split()) is a handy way to process input from the user in Python,\n",
    "especially when you need to convert space-separated strings into integers."
   ]
  },
  {
   "cell_type": "code",
   "execution_count": null,
   "id": "9b6c744a",
   "metadata": {},
   "outputs": [],
   "source": [
    "input(): This function reads a line of input from the user as a string.\n",
    "\n",
    "split(): This method splits the input string into a list of substrings based on whitespace.\n",
    "\n",
    "map(int, ...): The map() function applies the int function to each element of the list (created by split()), converting each substring to an integer.\n",
    "\n",
    "\n",
    "\n",
    "Example:\n",
    "Suppose you want to input a list of space-separated integers from the user:\n",
    "\n",
    "user_input = input(\"Enter space-separated integers: \")\n",
    "int_list = list(map(int, user_input.split()))\n",
    "print(\"List of integers:\", int_list)\n",
    "\n",
    "\n",
    "Example Execution:\n",
    "\n",
    "Enter space-separated integers: 10 20 30 40\n",
    "List of integers: [10, 20, 30, 40]\n",
    "So, this method efficiently converts user input into a list of integers, ready for further processing. Cool, right? 🎉"
   ]
  },
  {
   "cell_type": "code",
   "execution_count": 16,
   "id": "950d683c",
   "metadata": {},
   "outputs": [
    {
     "name": "stdout",
     "output_type": "stream",
     "text": [
      "Enter space-separated integers: 5\n",
      "List of integers: [5]\n"
     ]
    }
   ],
   "source": [
    "user_input = input(\"Enter space-separated integers: \")\n",
    "int_list = list(map(int, user_input.split()))\n",
    "print(\"List of integers:\", int_list)\n"
   ]
  },
  {
   "cell_type": "code",
   "execution_count": 4,
   "id": "00ecb6e6",
   "metadata": {},
   "outputs": [],
   "source": [
    "def find_max_number(numbers):\n",
    "    if not numbers:\n",
    "        return None\n",
    "    max_number = numbers[0]\n",
    "    for number in numbers[1:]:\n",
    "        if number > max_number:\n",
    "            max_number = number\n",
    "            return max_number"
   ]
  },
  {
   "cell_type": "code",
   "execution_count": 3,
   "id": "03eafa0e",
   "metadata": {},
   "outputs": [
    {
     "name": "stdout",
     "output_type": "stream",
     "text": [
      "The maximum number in the list is: 99\n"
     ]
    }
   ],
   "source": [
    "numbers = [12, 45, 67, 23, 89, 34, 66, 99, 25]\n",
    "max_number = max(numbers)\n",
    "print(\"The maximum number in the list is:\", max_number)\n"
   ]
  },
  {
   "cell_type": "code",
   "execution_count": 5,
   "id": "f5ffbc31",
   "metadata": {},
   "outputs": [
    {
     "name": "stdout",
     "output_type": "stream",
     "text": [
      "The second largest number in the list is: 89\n"
     ]
    }
   ],
   "source": [
    "numbers = [12, 45, 67, 23, 89, 34, 66, 99, 25]\n",
    "unique_numbers = list(set(numbers))\n",
    "unique_numbers.sort(reverse=True)\n",
    "if len(unique_numbers) >= 2:\n",
    "    second_largest = unique_numbers[1]\n",
    "    print(\"The second largest number in the list is:\", second_largest)\n",
    "else:\n",
    "    print(\"The list does not have enough unique numbers to determine the second largest.\")\n"
   ]
  },
  {
   "cell_type": "code",
   "execution_count": 1,
   "id": "f26d517d",
   "metadata": {},
   "outputs": [
    {
     "name": "stdout",
     "output_type": "stream",
     "text": [
      "The maximum number is: 8\n"
     ]
    }
   ],
   "source": [
    "def find_maximum(numbers):\n",
    "    if not numbers:\n",
    "        return None  # Return None if the list is empty\n",
    "    maximum = numbers[0]\n",
    "    for num in numbers:\n",
    "        if num > maximum:\n",
    "            maximum = num\n",
    "    return maximum\n",
    "\n",
    "# Example usage\n",
    "numbers = [3, 5, 2, 8, 1]\n",
    "print(\"The maximum number is:\", find_maximum(numbers))"
   ]
  },
  {
   "cell_type": "code",
   "execution_count": 4,
   "id": "d781a5e2",
   "metadata": {},
   "outputs": [],
   "source": [
    "def find_maximum(numbers):\n",
    "    if not numbers:\n",
    "        return None  \n",
    "    maximum = numbers[0] \n",
    "    for number in numbers:\n",
    "        if number > maximum:\n",
    "            maximum = number\n",
    "            return maximum\n",
    "        numbers = [3, 5, 1, 8, 2]\n",
    "        max_number = find_maximum(numbers)\n",
    "        print(\"The maximum number in the list is:\",max_number)"
   ]
  },
  {
   "cell_type": "code",
   "execution_count": 5,
   "id": "e72f8d9b",
   "metadata": {},
   "outputs": [
    {
     "name": "stdout",
     "output_type": "stream",
     "text": [
      "The maximum number in the list is: 8\n"
     ]
    }
   ],
   "source": [
    "def find_maximum(numbers):\n",
    "    if not numbers:\n",
    "        return None  # Return None if the list is empty\n",
    "    maximum = numbers[0]  # Initialize maximum with the first element\n",
    "    for number in numbers:\n",
    "        if number > maximum:\n",
    "            maximum = number  # Update maximum if a larger number is found\n",
    "    return maximum\n",
    "\n",
    "# Example usage\n",
    "numbers = [3, 5, 1, 8, 2]\n",
    "max_number = find_maximum(numbers)\n",
    "print(\"The maximum number in the list is:\", max_number)"
   ]
  },
  {
   "cell_type": "code",
   "execution_count": 12,
   "id": "d3cc79b5",
   "metadata": {},
   "outputs": [
    {
     "ename": "IndentationError",
     "evalue": "expected an indented block after 'if' statement on line 1 (1197495567.py, line 2)",
     "output_type": "error",
     "traceback": [
      "\u001b[1;36m  Cell \u001b[1;32mIn[12], line 2\u001b[1;36m\u001b[0m\n\u001b[1;33m    largest_even = largest_odd = None\u001b[0m\n\u001b[1;37m    ^\u001b[0m\n\u001b[1;31mIndentationError\u001b[0m\u001b[1;31m:\u001b[0m expected an indented block after 'if' statement on line 1\n"
     ]
    }
   ],
   "source": [
    "if not numbers:\n",
    "largest_even = largest_odd = None\n",
    "for num in numbers:\n",
    "    if num % 2 == 0:\n",
    "        if largest_even is None or num > largest_even:\n",
    "            largest_even = num\n",
    "        else:\n",
    "                if largest_odd is None or num > largest_odd:\n",
    "                    largest_odd = num\n",
    "                return largest_even, largest_odd\n",
    "                my_list = [10, 5, 20, 15, 8, 25]\n",
    "                even_max, odd_max = find_largest_even_odd(my_list)\n",
    "                print(\"Largest even number:\", even_max)\n",
    "                print(\"Largest odd number:\", odd_max)\n"
   ]
  },
  {
   "cell_type": "code",
   "execution_count": 13,
   "id": "411214c2",
   "metadata": {},
   "outputs": [
    {
     "name": "stdout",
     "output_type": "stream",
     "text": [
      "The largest even number in the list is: 72\n",
      "The largest odd number in the list is: 99\n"
     ]
    }
   ],
   "source": [
    "# Define the list of numbers\n",
    "numbers = [12, 45, 67, 23, 89, 34, 66, 99, 25, 72]\n",
    "\n",
    "# Initialize variables to store the largest even and odd numbers\n",
    "largest_even = None\n",
    "largest_odd = None\n",
    "\n",
    "# Iterate through the list to find the largest even and odd numbers\n",
    "for num in numbers:\n",
    "    if num % 2 == 0:  # Check if the number is even\n",
    "        if largest_even is None or num > largest_even:\n",
    "            largest_even = num\n",
    "    else:  # The number is odd\n",
    "        if largest_odd is None or num > largest_odd:\n",
    "            largest_odd = num\n",
    "\n",
    "# Print the results\n",
    "if largest_even is not None:\n",
    "    print(\"The largest even number in the list is:\", largest_even)\n",
    "else:\n",
    "    print(\"There are no even numbers in the list.\")\n",
    "\n",
    "if largest_odd is not None:\n",
    "    print(\"The largest odd number in the list is:\", largest_odd)\n",
    "else:\n",
    "    print(\"There are no odd numbers in the list.\")\n"
   ]
  },
  {
   "cell_type": "code",
   "execution_count": null,
   "id": "e8e49014",
   "metadata": {},
   "outputs": [],
   "source": [
    "Write a program to find the maximum number in a list"
   ]
  },
  {
   "cell_type": "code",
   "execution_count": 6,
   "id": "26e9c1e7",
   "metadata": {},
   "outputs": [
    {
     "name": "stdout",
     "output_type": "stream",
     "text": [
      "Enter space-separated integers: 1 7 2 5 -1\n",
      "The maximum number in the list is: 7\n"
     ]
    }
   ],
   "source": [
    "user_input = input(\"Enter space-separated integers: \")\n",
    "numbers = list(map(int, user_input.split()))\n",
    "max_number = max(numbers)\n",
    "print(\"The maximum number in the list is:\", max_number)"
   ]
  },
  {
   "cell_type": "code",
   "execution_count": 8,
   "id": "c7fe137c",
   "metadata": {},
   "outputs": [
    {
     "name": "stdout",
     "output_type": "stream",
     "text": [
      "7\n"
     ]
    }
   ],
   "source": [
    "numbers = [1, 7, 2, 5, -1]\n",
    "stringified = list(map(str, numbers))\n",
    "print(max(stringified))"
   ]
  },
  {
   "cell_type": "code",
   "execution_count": 11,
   "id": "c63e6310",
   "metadata": {},
   "outputs": [
    {
     "name": "stdout",
     "output_type": "stream",
     "text": [
      "1 7 2 5 -1\n"
     ]
    },
    {
     "ename": "ValueError",
     "evalue": "invalid literal for int() with base 10: '1 7 2 5 -1'",
     "output_type": "error",
     "traceback": [
      "\u001b[1;31m---------------------------------------------------------------------------\u001b[0m",
      "\u001b[1;31mValueError\u001b[0m                                Traceback (most recent call last)",
      "Cell \u001b[1;32mIn[11], line 1\u001b[0m\n\u001b[1;32m----> 1\u001b[0m n\u001b[38;5;241m=\u001b[39m\u001b[38;5;28mint\u001b[39m(\u001b[38;5;28minput\u001b[39m())\n\u001b[0;32m      2\u001b[0m \u001b[38;5;28mmap\u001b[39m(\u001b[38;5;28mint\u001b[39m,\u001b[38;5;28minput\u001b[39m()\u001b[38;5;241m.\u001b[39msplit())\n",
      "\u001b[1;31mValueError\u001b[0m: invalid literal for int() with base 10: '1 7 2 5 -1'"
     ]
    }
   ],
   "source": [
    "n=int(input())\n",
    "map(int,input().split())\n"
   ]
  },
  {
   "cell_type": "code",
   "execution_count": 12,
   "id": "b3819aae",
   "metadata": {},
   "outputs": [
    {
     "name": "stdout",
     "output_type": "stream",
     "text": [
      "['hi', 'how', 'are', 'you']\n"
     ]
    }
   ],
   "source": [
    "x=\"hi how are you\"\n",
    "words=x.split()\n",
    "print(words)"
   ]
  },
  {
   "cell_type": "code",
   "execution_count": null,
   "id": "d58b248a",
   "metadata": {},
   "outputs": [],
   "source": [
    "Write a program to find the sum of element in a list"
   ]
  },
  {
   "cell_type": "code",
   "execution_count": 10,
   "id": "37292515",
   "metadata": {},
   "outputs": [
    {
     "name": "stdout",
     "output_type": "stream",
     "text": [
      "Enter space-separated integers: 3 10 20 30\n",
      "The sum of the elements in the list is: 63\n"
     ]
    }
   ],
   "source": [
    "user_input = input(\"Enter space-separated integers: \")\n",
    "numbers = list(map(int, user_input.split()))\n",
    "total_sum = sum(numbers)\n",
    "print(\"The sum of the elements in the list is:\", total_sum)"
   ]
  },
  {
   "cell_type": "code",
   "execution_count": 13,
   "id": "909ac02c",
   "metadata": {},
   "outputs": [
    {
     "name": "stdout",
     "output_type": "stream",
     "text": [
      "enter some values:1 7 2 5 -1\n",
      "7\n"
     ]
    }
   ],
   "source": [
    "M=input(\"enter some values:\").split()\n",
    "print(max(M))"
   ]
  },
  {
   "cell_type": "code",
   "execution_count": 20,
   "id": "eddcca4a",
   "metadata": {},
   "outputs": [
    {
     "name": "stdout",
     "output_type": "stream",
     "text": [
      "20\n",
      "20\n"
     ]
    },
    {
     "data": {
      "text/plain": [
       "<map at 0x204668f15a0>"
      ]
     },
     "execution_count": 20,
     "metadata": {},
     "output_type": "execute_result"
    }
   ],
   "source": [
    "N=int(input())\n",
    "map(int,input().split())"
   ]
  },
  {
   "cell_type": "code",
   "execution_count": null,
   "id": "b2497c52",
   "metadata": {},
   "outputs": [],
   "source": [
    "write a program to find the number of distinct elements in a list"
   ]
  },
  {
   "cell_type": "code",
   "execution_count": 19,
   "id": "9b893c78",
   "metadata": {},
   "outputs": [
    {
     "name": "stdout",
     "output_type": "stream",
     "text": [
      "The number of distinct elements in the list is: 4\n"
     ]
    }
   ],
   "source": [
    "numbers = [3,2,3,780,90]\n",
    "distinct_numbers = set(numbers)\n",
    "num_distinct_elements = len(distinct_numbers)\n",
    "print(\"The number of distinct elements in the list is:\", num_distinct_elements)"
   ]
  },
  {
   "cell_type": "code",
   "execution_count": 26,
   "id": "31ce4c50",
   "metadata": {},
   "outputs": [
    {
     "name": "stdout",
     "output_type": "stream",
     "text": [
      "5 20\n",
      "First Number is: 5\n",
      "second Number is: 20\n"
     ]
    }
   ],
   "source": [
    "x,y=[int(x) for x in input().split()]\n",
    "print(\"First Number is:\",x)\n",
    "print(\"second Number is:\",y)"
   ]
  },
  {
   "cell_type": "code",
   "execution_count": 29,
   "id": "32ccaf5b",
   "metadata": {},
   "outputs": [
    {
     "name": "stdout",
     "output_type": "stream",
     "text": [
      "4 6 \n",
      "Number of list is: 4\n"
     ]
    }
   ],
   "source": [
    "x,y=[int(x) for x in input().split()]\n",
    "print(\"Number of list is:\",x)"
   ]
  },
  {
   "cell_type": "code",
   "execution_count": null,
   "id": "ef0ded99",
   "metadata": {},
   "outputs": [],
   "source": [
    "//Write a python program to get the input from the user for creating two lists and add the elemnts of one list into the other"
   ]
  },
  {
   "cell_type": "code",
   "execution_count": 1,
   "id": "09a1753d",
   "metadata": {},
   "outputs": [
    {
     "name": "stdout",
     "output_type": "stream",
     "text": [
      "4\n",
      "12\n",
      "[12]\n",
      "26\n",
      "[12, 26]\n",
      "10\n",
      "[12, 26, 10]\n",
      "6\n",
      "[12, 26, 10, 6]\n"
     ]
    }
   ],
   "source": [
    "size_of_list_1=int(input())\n",
    "list_1=[]\n",
    "for i in range(size_of_list_1):\n",
    "    list_1.append(int(input()))\n",
    "    print(list_1)"
   ]
  },
  {
   "cell_type": "code",
   "execution_count": 2,
   "id": "ce2d603d",
   "metadata": {},
   "outputs": [
    {
     "data": {
      "text/plain": [
       "['Hi,How', 'are', 'you']"
      ]
     },
     "execution_count": 2,
     "metadata": {},
     "output_type": "execute_result"
    }
   ],
   "source": [
    "x=\"Hi,How are you\"\n",
    "x.split()"
   ]
  },
  {
   "cell_type": "code",
   "execution_count": 5,
   "id": "8f0e001b",
   "metadata": {},
   "outputs": [
    {
     "name": "stdout",
     "output_type": "stream",
     "text": [
      "123\n"
     ]
    },
    {
     "data": {
      "text/plain": [
       "[123]"
      ]
     },
     "execution_count": 5,
     "metadata": {},
     "output_type": "execute_result"
    }
   ],
   "source": [
    "x=\"Hi,How are you\"\n",
    "list(map(int,input().split()))"
   ]
  },
  {
   "cell_type": "code",
   "execution_count": 12,
   "id": "9e6ba1eb",
   "metadata": {},
   "outputs": [
    {
     "name": "stdout",
     "output_type": "stream",
     "text": [
      "5\n",
      "12 26 10 67 99\n",
      "99\n"
     ]
    }
   ],
   "source": [
    "a=int(input())\n",
    "b=list(map(int,input().split()))\n",
    "print(max(b))\n"
   ]
  },
  {
   "cell_type": "code",
   "execution_count": null,
   "id": "4b86b3e4",
   "metadata": {},
   "outputs": [],
   "source": [
    "//write a python program to find the second largest number in the list"
   ]
  },
  {
   "cell_type": "code",
   "execution_count": 14,
   "id": "f0895cb2",
   "metadata": {},
   "outputs": [
    {
     "name": "stdout",
     "output_type": "stream",
     "text": [
      "5\n",
      "12 99 45\n",
      "45\n"
     ]
    }
   ],
   "source": [
    "a=int(input())\n",
    "b=list(map(int,input().split()))\n",
    "b.sort()\n",
    "print(b[-2])"
   ]
  },
  {
   "cell_type": "code",
   "execution_count": 18,
   "id": "05c4a318",
   "metadata": {},
   "outputs": [
    {
     "name": "stdout",
     "output_type": "stream",
     "text": [
      "5\n",
      "6\n",
      "7\n",
      "8\n",
      "9\n",
      "0\n",
      "[6, 7, 8, 9, 0]\n",
      "5\n",
      "1\n",
      "2\n",
      "3\n",
      "4\n",
      "5\n",
      "[1, 2, 3, 4, 5]\n"
     ]
    }
   ],
   "source": [
    "size_of_list_1=int(input())\n",
    "list_1=[]\n",
    "for i in range(size_of_list_1):\n",
    "    list_1.append(int(input()))\n",
    "print(list_1)\n",
    "\n",
    "size_of_list_2=int(input())\n",
    "list_2=[]\n",
    "for i in range(size_of_list_2):\n",
    "    list_2.append(int(input()))\n",
    "    \n",
    "print(list_2)"
   ]
  },
  {
   "cell_type": "code",
   "execution_count": null,
   "id": "c2d5364a",
   "metadata": {},
   "outputs": [],
   "source": [
    "//writ a python code to create a list of 1 to 10 elements and from the list creaetd,create anothor list with only add values"
   ]
  },
  {
   "cell_type": "markdown",
   "id": "0241d6dd",
   "metadata": {},
   "source": [
    "list_1=list(range(1,11))\n",
    "odd = list1[::2]\n",
    "print(list1)\n",
    "print(odd)"
   ]
  },
  {
   "cell_type": "code",
   "execution_count": null,
   "id": "42f48c10",
   "metadata": {},
   "outputs": [],
   "source": [
    "list_1=list(range(1,11))\n",
    "odd = list1[::2]\n",
    "print(list1)\n",
    "print(odd)"
   ]
  },
  {
   "cell_type": "code",
   "execution_count": null,
   "id": "b3826fde",
   "metadata": {},
   "outputs": [],
   "source": [
    "//writ a program to largest even and largest odd"
   ]
  },
  {
   "cell_type": "code",
   "execution_count": 16,
   "id": "8bca4784",
   "metadata": {},
   "outputs": [
    {
     "name": "stdout",
     "output_type": "stream",
     "text": [
      "5\n",
      "1 \n",
      "6\n",
      "5 \n",
      "3\n",
      "4\n",
      "Largest even number: 6\n",
      "Largest odd number: 5\n"
     ]
    }
   ],
   "source": [
    "n=int(input())\n",
    "b=[]\n",
    "for i in range(n):\n",
    "    a=int(input())\n",
    "    b.append(a)\n",
    "c=[]\n",
    "d=[]\n",
    "for i in b:\n",
    "    if(i%2==0):\n",
    "        c.append(i)\n",
    "    else:\n",
    "        d.append(i)\n",
    "c.sort()\n",
    "d.sort()\n",
    "print(\"Largest even number:\",c[-1])\n",
    "print(\"Largest odd number:\",d[-1])"
   ]
  },
  {
   "cell_type": "code",
   "execution_count": null,
   "id": "b0743528",
   "metadata": {},
   "outputs": [],
   "source": [
    "//write a python program to find the union of two list"
   ]
  },
  {
   "cell_type": "markdown",
   "id": "cf255fe3",
   "metadata": {},
   "source": [
    "a=list(map(int,input().split())\n",
    "b=list(map(int,input().split())\n",
    "union = list(set().union(a,b))\n",
    "print('The union of two lists is:',union)"
   ]
  },
  {
   "cell_type": "code",
   "execution_count": 21,
   "id": "60681ea6",
   "metadata": {},
   "outputs": [
    {
     "name": "stdout",
     "output_type": "stream",
     "text": [
      "1 2 3\n",
      "3 4 5\n",
      "The union of two lists is: [1, 2, 3, 4, 5]\n"
     ]
    }
   ],
   "source": [
    "a=list(map(int,input().split()))\n",
    "b=list(map(int,input().split()))\n",
    "union = list(set().union(a,b)) \n",
    "print('The union of two lists is:',union)"
   ]
  },
  {
   "cell_type": "code",
   "execution_count": null,
   "id": "594553fd",
   "metadata": {},
   "outputs": [],
   "source": [
    "//Write a program to print the number of repeated elements in a list any one is fin chnge numbr"
   ]
  },
  {
   "cell_type": "code",
   "execution_count": 2,
   "id": "34a2e850",
   "metadata": {},
   "outputs": [
    {
     "name": "stdout",
     "output_type": "stream",
     "text": [
      "Repeated elements and their counts: {3: 3}\n",
      "The number of repeated elements: 1\n"
     ]
    }
   ],
   "source": [
    "\n",
    "numbers = [5,3,3,3,78,90]\n",
    "\n",
    "frequency = {}\n",
    "\n",
    "\n",
    "for num in numbers:\n",
    "    if num in frequency:\n",
    "        frequency[num] += 1\n",
    "    else:\n",
    "        frequency[num] = 1\n",
    "\n",
    "\n",
    "repeated_elements = {key: value for key, value in frequency.items() if value > 1}\n",
    "\n",
    "\n",
    "print(\"Repeated elements and their counts:\", repeated_elements)\n",
    "print(\"The number of repeated elements:\", len(repeated_elements))\n"
   ]
  },
  {
   "cell_type": "code",
   "execution_count": 4,
   "id": "8c757536",
   "metadata": {},
   "outputs": [
    {
     "name": "stdout",
     "output_type": "stream",
     "text": [
      "Number of repeated elements: 1\n",
      "Repeated elements and their counts: {3: 2}\n"
     ]
    }
   ],
   "source": [
    "numbers = [3,1,2,3]\n",
    "from collections import Counter\n",
    "element_counts = Counter(numbers)\n",
    "repeated_elements = {key: value for key, value in element_counts.items() if value > 1}\n",
    "print(f\"Number of repeated elements: {len(repeated_elements)}\")\n",
    "print(\"Repeated elements and their counts:\", repeated_elements)"
   ]
  },
  {
   "cell_type": "code",
   "execution_count": null,
   "id": "5ea94b1e",
   "metadata": {},
   "outputs": [],
   "source": [
    " "
   ]
  },
  {
   "cell_type": "code",
   "execution_count": null,
   "id": "fafde0d1",
   "metadata": {},
   "outputs": [],
   "source": []
  }
 ],
 "metadata": {
  "kernelspec": {
   "display_name": "Python 3 (ipykernel)",
   "language": "python",
   "name": "python3"
  },
  "language_info": {
   "codemirror_mode": {
    "name": "ipython",
    "version": 3
   },
   "file_extension": ".py",
   "mimetype": "text/x-python",
   "name": "python",
   "nbconvert_exporter": "python",
   "pygments_lexer": "ipython3",
   "version": "3.11.4"
  }
 },
 "nbformat": 4,
 "nbformat_minor": 5
}
